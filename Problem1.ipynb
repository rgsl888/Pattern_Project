{
 "cells": [
  {
   "cell_type": "code",
   "execution_count": 1,
   "metadata": {},
   "outputs": [],
   "source": [
    "import pandas as pd\n",
    "import numpy as np\n",
    "from sklearn import svm\n",
    "from itertools import combinations\n",
    "from sklearn.neural_network import MLPClassifier\n",
    "import math"
   ]
  },
  {
   "cell_type": "code",
   "execution_count": 2,
   "metadata": {},
   "outputs": [],
   "source": [
    "data = pd.read_csv('data/Assign1_Training_Data.txt', sep=\"\\t\", header=None)\n",
    "data_col = data.iloc[0]\n",
    "data=data.reindex(data.index.drop(0))\n",
    "\n",
    "data_test = pd.read_csv('data/Assign1_Testing_Data.txt', sep=\"\\t\", header=None)\n",
    "data_test = data_test.reindex(data_test.index.drop(0))"
   ]
  },
  {
   "cell_type": "code",
   "execution_count": 3,
   "metadata": {},
   "outputs": [],
   "source": [
    "perm = combinations(list(range(1,71)),2)"
   ]
  },
  {
   "cell_type": "code",
   "execution_count": 4,
   "metadata": {},
   "outputs": [],
   "source": [
    "def get_all_error(model, data, fea):\n",
    "    data_class_0 = data.loc[data[71] == '0']\n",
    "    data_class_1 = data.loc[data[71] == '1']\n",
    "    \n",
    "    pred_0 = model.predict(data_class_0[fea])\n",
    "    pred_1 = model.predict(data_class_1[fea])\n",
    "    \n",
    "    E0 = pred_0[pred_0 == '1'].size/pred_0.size\n",
    "    E1 = pred_1[pred_1 == '0'].size/pred_1.size\n",
    "    E  = (pred_0[pred_0 == '1'].size + pred_1[pred_1 == '0'].size) / (pred_0.size+pred_1.size)\n",
    "    \n",
    "    #print (\"Error calculated individiually : \", E)\n",
    "    #print (\"Error directly : \", 1.0 - model.score(data[fea], data[71]))\n",
    "    \n",
    "    return E0, E1, E\n",
    "\n",
    "def linear_svm(data=None, feature=None, test_data=None, class_spc_error = None):\n",
    "    model = svm.SVC(kernel='linear',random_state=0, C=1, gamma='auto')\n",
    "    model.fit(data[feature], data[71])\n",
    "    if (class_spc_error == False):\n",
    "        return model.score(test_data[feature], test_data[71])\n",
    "    else:\n",
    "        return get_all_error(model, test_data, feature)\n",
    "\n",
    "def rbf_svm(data=None, feature=None, test_data=None, class_spc_error = None):\n",
    "    model = svm.SVC(kernel='rbf',random_state=0, C=10, gamma='auto')\n",
    "    model.fit(data[feature], data[71])\n",
    "    if (class_spc_error == False):\n",
    "        return model.score(test_data[feature], test_data[71])\n",
    "    else:\n",
    "        return get_all_error(model, test_data, feature)\n",
    "    \n",
    "                       \n",
    "def nn(data=None, feature=None, test_data=None, class_spc_error = None):\n",
    "    model = MLPClassifier(hidden_layer_sizes = (5,5), solver = 'lbfgs',  random_state=0, activation='logistic', max_iter=200)\n",
    "    model.fit(data[feature], data[71])\n",
    "    if (class_spc_error == False):\n",
    "        return model.score(test_data[feature], test_data[71])\n",
    "    else:\n",
    "        return get_all_error(model, test_data, feature)"
   ]
  },
  {
   "cell_type": "code",
   "execution_count": 5,
   "metadata": {},
   "outputs": [
    {
     "name": "stdout",
     "output_type": "stream",
     "text": [
      "linear svm error :  0.21250000000000002\n",
      "rbf svm error :  0.21250000000000002\n",
      "nn svm error :  0.07499999999999996\n",
      "linear svm best pair :  [4, 20]\n",
      "rbf svm best pair :  [13, 49]\n",
      "nn best pair :  [4, 31]\n"
     ]
    }
   ],
   "source": [
    "best_pair_lin_svm = []\n",
    "best_pair_rbf_svm = []\n",
    "best_pair_nn = []\n",
    "lin_svm_score = 0\n",
    "rbf_svm_score = 0\n",
    "nn_score = 0\n",
    "\n",
    "for i in perm:\n",
    "    pair = list(i)\n",
    "    tmp_score = linear_svm (data, pair, data, False)\n",
    "    if (lin_svm_score < tmp_score):\n",
    "        best_pair_lin_svm = pair\n",
    "        lin_svm_score = tmp_score\n",
    "        \n",
    "    tmp_score = rbf_svm (data, pair, data, False)    \n",
    "    if (rbf_svm_score < tmp_score):\n",
    "        best_pair_rbf_svm = pair\n",
    "        rbf_svm_score = tmp_score\n",
    "        \n",
    "    tmp_score = nn (data, pair, data, False)\n",
    "    if (nn_score < tmp_score):\n",
    "        best_pair_nn = pair\n",
    "        nn_score = tmp_score\n",
    "    \n",
    "    \n",
    "print (\"linear svm error : \", 1.0 - lin_svm_score)\n",
    "print (\"rbf svm error : \", 1.0 - rbf_svm_score)\n",
    "print (\"nn svm error : \", 1.0 - nn_score)\n",
    "        \n",
    "print (\"linear svm best pair : \", best_pair_lin_svm)\n",
    "print (\"rbf svm best pair : \", best_pair_rbf_svm)\n",
    "print (\"nn best pair : \", best_pair_nn)    "
   ]
  },
  {
   "cell_type": "raw",
   "metadata": {},
   "source": [
    "linear svm error :  0.21250000000000002\n",
    "rbf svm error :  0.21250000000000002\n",
    "nn svm error :  0.07499999999999996\n",
    "linear svm best pair :  [4, 20]\n",
    "rbf svm best pair :  [13, 49]\n",
    "nn best pair :  [4, 31]"
   ]
  },
  {
   "cell_type": "code",
   "execution_count": 7,
   "metadata": {},
   "outputs": [
    {
     "name": "stdout",
     "output_type": "stream",
     "text": [
      "Linear SVM resubstitution error : \n",
      "Best pair of features : \n",
      " 4     LOC51203\n",
      "20        MMP9\n",
      "Name: 0, dtype: object  indexed at : [4, 20]\n",
      "E0 :  0.05  E1 :  0.375  E :  0.2125 \n",
      "\n",
      "RBF SVM resubstitution error : \n",
      "Best pair of features : \n",
      " 13    KIAA1442\n",
      "49       ORC6L\n",
      "Name: 0, dtype: object  indexed at : [13, 49]\n",
      "E0 :  0.2  E1 :  0.225  E :  0.2125 \n",
      "\n",
      "NN resubstitution error : \n",
      "Best pair of features : \n",
      " 4           LOC51203\n",
      "31    Contig32185_RC\n",
      "Name: 0, dtype: object  indexed at : [4, 31]\n",
      "E0 :  0.1  E1 :  0.05  E :  0.075 \n",
      "\n"
     ]
    }
   ],
   "source": [
    "# Resubstitution error for best pair\n",
    "\n",
    "# Linear SVM performance on test set\n",
    "E0, E1, E = linear_svm (data, best_pair_lin_svm, data, True)\n",
    "print (\"Linear SVM resubstitution error : \")\n",
    "print (\"Best pair of features : \\n\", data_col[best_pair_lin_svm], \" indexed at :\", best_pair_lin_svm)\n",
    "print (\"E0 : \", E0, \" E1 : \", E1, \" E : \", E, \"\\n\")\n",
    "\n",
    "E0, E1, E = rbf_svm (data, best_pair_rbf_svm, data, True)\n",
    "print (\"RBF SVM resubstitution error : \")\n",
    "print (\"Best pair of features : \\n\", data_col[best_pair_rbf_svm], \" indexed at :\", best_pair_rbf_svm)\n",
    "print (\"E0 : \", E0, \" E1 : \", E1, \" E : \", E, \"\\n\")\n",
    "\n",
    "E0, E1, E = nn (data, best_pair_nn, data, True)\n",
    "print (\"NN resubstitution error : \")\n",
    "print (\"Best pair of features : \\n\", data_col[best_pair_nn], \" indexed at :\", best_pair_nn)\n",
    "print (\"E0 : \", E0, \" E1 : \", E1, \" E : \", E, \"\\n\")"
   ]
  },
  {
   "cell_type": "raw",
   "metadata": {},
   "source": [
    "Linear SVM resubstitution error : \n",
    "Best pair of features : \n",
    " 4     LOC51203\n",
    "20        MMP9\n",
    "Name: 0, dtype: object  indexed at : [4, 20]\n",
    "E0 :  0.05  E1 :  0.375  E :  0.2125 \n",
    "\n",
    "RBF SVM resubstitution error : \n",
    "Best pair of features : \n",
    " 13    KIAA1442\n",
    "49       ORC6L\n",
    "Name: 0, dtype: object  indexed at : [13, 49]\n",
    "E0 :  0.2  E1 :  0.225  E :  0.2125 \n",
    "\n",
    "NN resubstitution error : \n",
    "Best pair of features : \n",
    " 4           LOC51203\n",
    "31    Contig32185_RC\n",
    "Name: 0, dtype: object  indexed at : [4, 31]\n",
    "E0 :  0.1  E1 :  0.05  E :  0.075"
   ]
  },
  {
   "cell_type": "code",
   "execution_count": 8,
   "metadata": {},
   "outputs": [
    {
     "name": "stdout",
     "output_type": "stream",
     "text": [
      "Linear SVM error on test data : \n",
      "E0 :  0.20512820512820512  E1 :  0.5113636363636364  E :  0.4558139534883721 \n",
      "\n",
      "RBF SVM error on test data : \n",
      "E0 :  0.20512820512820512  E1 :  0.5  E :  0.44651162790697674 \n",
      "\n",
      "NN error on test data :\n",
      "E0 :  0.5897435897435898  E1 :  0.36363636363636365  E :  0.4046511627906977 \n",
      "\n"
     ]
    }
   ],
   "source": [
    "# Classification performance with best pair of features on test set\n",
    "\n",
    "# Linear SVM performance on test set\n",
    "E0, E1, E = linear_svm (data, best_pair_lin_svm, data_test, True)\n",
    "print (\"Linear SVM error on test data : \")\n",
    "print (\"E0 : \", E0, \" E1 : \", E1, \" E : \", E, \"\\n\")\n",
    "\n",
    "E0, E1, E = rbf_svm (data, best_pair_rbf_svm, data_test, True)\n",
    "print (\"RBF SVM error on test data : \")\n",
    "print (\"E0 : \", E0, \" E1 : \", E1, \" E : \", E, \"\\n\")\n",
    "\n",
    "E0, E1, E = nn (data, best_pair_nn, data_test, True)\n",
    "print (\"NN error on test data :\")\n",
    "print (\"E0 : \", E0, \" E1 : \", E1, \" E : \", E, \"\\n\")"
   ]
  },
  {
   "cell_type": "raw",
   "metadata": {},
   "source": [
    "Linear SVM error on test data : \n",
    "E0 :  0.20512820512820512  E1 :  0.5113636363636364  E :  0.4558139534883721 \n",
    "\n",
    "RBF SVM error on test data : \n",
    "E0 :  0.20512820512820512  E1 :  0.5  E :  0.44651162790697674 \n",
    "\n",
    "NN error on test data :\n",
    "E0 :  0.5897435897435898  E1 :  0.36363636363636365  E :  0.4046511627906977"
   ]
  },
  {
   "cell_type": "code",
   "execution_count": 9,
   "metadata": {},
   "outputs": [],
   "source": [
    "def best_d_features (data, d):\n",
    "    lin_svm_features = best_pair_lin_svm.copy()\n",
    "    rbf_svm_features = best_pair_rbf_svm.copy()\n",
    "    nn_features = best_pair_nn.copy()\n",
    "    lin_score = 0\n",
    "    rbf_score = 0\n",
    "    nn_l_score = 0\n",
    "    features_set = list (range(1,71))\n",
    "    for k in range(d-2):\n",
    "        tmp_lin_svm_fea = []\n",
    "        tmp_rbf_svm_fea = []\n",
    "        tmp_nn_fea = []\n",
    "        lin_svm_score = 0\n",
    "        rbf_svm_score = 0\n",
    "        nn_score = 0\n",
    "        \n",
    "        for i in features_set:\n",
    "            if (i not in lin_svm_features):\n",
    "            \n",
    "                fea = [i]\n",
    "                fea.extend (lin_svm_features)\n",
    "            \n",
    "                tmp_score = linear_svm (data, fea, data, False)\n",
    "                if (lin_svm_score < tmp_score):\n",
    "                    tmp_lin_svm_fea = fea\n",
    "                    lin_svm_score = tmp_score\n",
    "              \n",
    "            if (i not in rbf_svm_features):\n",
    "                fea = [i]\n",
    "                fea.extend (rbf_svm_features)\n",
    "            \n",
    "                tmp_score = rbf_svm (data, fea, data, False)\n",
    "                if (rbf_svm_score < tmp_score):\n",
    "                    tmp_rbf_svm_fea = fea\n",
    "                    rbf_svm_score = tmp_score\n",
    "            \n",
    "            if (i not in nn_features):\n",
    "                fea = nn_features.copy()\n",
    "                fea.append(i)\n",
    "            \n",
    "                tmp_score = nn (data, fea, data, False)\n",
    "                if (nn_score < tmp_score):\n",
    "                    tmp_nn_fea = fea\n",
    "                    nn_score = tmp_score\n",
    "        \n",
    "        lin_svm_features = tmp_lin_svm_fea\n",
    "        rbf_svm_features = tmp_rbf_svm_fea\n",
    "        nn_features = tmp_nn_fea\n",
    "        lin_score = lin_svm_score\n",
    "        rbf_score = rbf_svm_score\n",
    "        nn_l_score = nn_score\n",
    "        \n",
    "        \n",
    "    return lin_svm_features, rbf_svm_features, nn_features, 1.0 - lin_score, 1.0 - rbf_score, 1.0 - nn_l_score"
   ]
  },
  {
   "cell_type": "code",
   "execution_count": 10,
   "metadata": {},
   "outputs": [],
   "source": [
    "best_features_for_3 = best_d_features (data, 3)\n",
    "best_features_for_4 = best_d_features (data, 4)\n",
    "best_features_for_5 = best_d_features (data, 5)"
   ]
  },
  {
   "cell_type": "code",
   "execution_count": 11,
   "metadata": {},
   "outputs": [
    {
     "name": "stdout",
     "output_type": "stream",
     "text": [
      "Best 3 Features for linear, rbf and nn, and their scores :  ([28, 4, 20], [33, 13, 49], [4, 31, 13], 0.19999999999999996, 0.17500000000000004, 0.050000000000000044)\n",
      "Best 4 Features for linear, rbf and nn, and their scores :  ([6, 28, 4, 20], [2, 33, 13, 49], [4, 31, 13, 21], 0.1875, 0.15000000000000002, 0.012499999999999956)\n",
      "Best 5 Features for linear, rbf and nn, and their scores :  ([45, 6, 28, 4, 20], [25, 2, 33, 13, 49], [4, 31, 13, 21, 38], 0.1875, 0.13749999999999996, 0.012499999999999956)\n"
     ]
    }
   ],
   "source": [
    "print (\"Best 3 Features for linear, rbf and nn, and their scores : \", best_features_for_3)\n",
    "print (\"Best 4 Features for linear, rbf and nn, and their scores : \", best_features_for_4)\n",
    "print (\"Best 5 Features for linear, rbf and nn, and their scores : \", best_features_for_5)"
   ]
  },
  {
   "cell_type": "raw",
   "metadata": {},
   "source": [
    "Best 3 Features for linear, rbf and nn, and their scores :  ([28, 4, 20], [33, 13, 49], [4, 31, 13], 0.19999999999999996, 0.17500000000000004, 0.050000000000000044)\n",
    "\n",
    "Best 4 Features for linear, rbf and nn, and their scores :  ([6, 28, 4, 20], [2, 33, 13, 49], [4, 31, 13, 21], 0.1875, 0.15000000000000002, 0.012499999999999956)\n",
    "\n",
    "Best 5 Features for linear, rbf and nn, and their scores :  ([45, 6, 28, 4, 20], [25, 2, 33, 13, 49], [4, 31, 13, 21, 38], 0.1875, 0.13749999999999996, 0.012499999999999956)"
   ]
  },
  {
   "cell_type": "code",
   "execution_count": 12,
   "metadata": {},
   "outputs": [
    {
     "name": "stdout",
     "output_type": "stream",
     "text": [
      "Linear SVM Resubstitution for 3 features : \n",
      "Seq 3 features : \n",
      " 28      SERF1A\n",
      "4     LOC51203\n",
      "20        MMP9\n",
      "Name: 0, dtype: object  indexed at : [28, 4, 20]\n",
      "E0 :  0.05  E1 :  0.35  E :  0.2 \n",
      "\n",
      "RBF SVM Resubstitution error for 3 features : \n",
      "Seq 3 features : \n",
      " 33    Contig48328_RC\n",
      "13          KIAA1442\n",
      "49             ORC6L\n",
      "Name: 0, dtype: object  indexed at : [33, 13, 49]\n",
      "E0 :  0.125  E1 :  0.225  E :  0.175 \n",
      "\n",
      "NN Resubstitution error for 3 features : \n",
      "Seq 3 features : \n",
      " 4           LOC51203\n",
      "31    Contig32185_RC\n",
      "13          KIAA1442\n",
      "Name: 0, dtype: object  indexed at : [4, 31, 13]\n",
      "E0 :  0.025  E1 :  0.075  E :  0.05 \n",
      "\n"
     ]
    }
   ],
   "source": [
    "# Resubstitution error with 3 features\n",
    "\n",
    "E0, E1, E = linear_svm (data, best_features_for_3[0], data, True)\n",
    "print (\"Linear SVM Resubstitution for 3 features : \")\n",
    "print (\"Seq 3 features : \\n\", data_col[best_features_for_3[0]], \" indexed at :\", best_features_for_3[0])\n",
    "print (\"E0 : \", E0, \" E1 : \", E1, \" E : \", E, \"\\n\")\n",
    "\n",
    "E0, E1, E = rbf_svm (data, best_features_for_3[1], data, True)\n",
    "print (\"RBF SVM Resubstitution error for 3 features : \")\n",
    "print (\"Seq 3 features : \\n\", data_col[best_features_for_3[1]], \" indexed at :\", best_features_for_3[1])\n",
    "print (\"E0 : \", E0, \" E1 : \", E1, \" E : \", E, \"\\n\")\n",
    "\n",
    "E0, E1, E = nn (data, best_features_for_3[2], data, True)\n",
    "print (\"NN Resubstitution error for 3 features : \")\n",
    "print (\"Seq 3 features : \\n\", data_col[best_features_for_3[2]], \" indexed at :\", best_features_for_3[2])\n",
    "print (\"E0 : \", E0, \" E1 : \", E1, \" E : \", E, \"\\n\")"
   ]
  },
  {
   "cell_type": "raw",
   "metadata": {},
   "source": [
    "Linear SVM Resubstitution for 3 features : \n",
    "Seq 3 features : \n",
    " 28      SERF1A\n",
    "4     LOC51203\n",
    "20        MMP9\n",
    "Name: 0, dtype: object  indexed at : [28, 4, 20]\n",
    "E0 :  0.05  E1 :  0.35  E :  0.2 \n",
    "\n",
    "RBF SVM Resubstitution error for 3 features : \n",
    "Seq 3 features : \n",
    " 33    Contig48328_RC\n",
    "13          KIAA1442\n",
    "49             ORC6L\n",
    "Name: 0, dtype: object  indexed at : [33, 13, 49]\n",
    "E0 :  0.125  E1 :  0.225  E :  0.175 \n",
    "\n",
    "NN Resubstitution error for 3 features : \n",
    "Seq 3 features : \n",
    " 4           LOC51203\n",
    "31    Contig32185_RC\n",
    "13          KIAA1442\n",
    "Name: 0, dtype: object  indexed at : [4, 31, 13]\n",
    "E0 :  0.025  E1 :  0.075  E :  0.05"
   ]
  },
  {
   "cell_type": "code",
   "execution_count": 13,
   "metadata": {},
   "outputs": [
    {
     "name": "stdout",
     "output_type": "stream",
     "text": [
      "Linear SVM error on test data for 3 features : \n",
      "E0 :  0.20512820512820512  E1 :  0.48863636363636365  E :  0.4372093023255814 \n",
      "\n",
      "RBF SVM error on test data for 3 features : \n",
      "E0 :  0.20512820512820512  E1 :  0.4715909090909091  E :  0.4232558139534884 \n",
      "\n",
      "NN error on test data for 3 features : \n",
      "E0 :  0.358974358974359  E1 :  0.45454545454545453  E :  0.4372093023255814 \n",
      "\n"
     ]
    }
   ],
   "source": [
    "# Classification performance with 3 features on test set\n",
    "\n",
    "# Linear SVM performance on test set\n",
    "E0, E1, E = linear_svm (data, best_features_for_3[0], data_test, True)\n",
    "print (\"Linear SVM error on test data for 3 features : \")\n",
    "print (\"E0 : \", E0, \" E1 : \", E1, \" E : \", E, \"\\n\")\n",
    "\n",
    "E0, E1, E = rbf_svm (data, best_features_for_3[1], data_test, True)\n",
    "print (\"RBF SVM error on test data for 3 features : \")\n",
    "print (\"E0 : \", E0, \" E1 : \", E1, \" E : \", E, \"\\n\")\n",
    "\n",
    "E0, E1, E = nn (data, best_features_for_3[2], data_test, True)\n",
    "print (\"NN error on test data for 3 features : \")\n",
    "print (\"E0 : \", E0, \" E1 : \", E1, \" E : \", E, \"\\n\")"
   ]
  },
  {
   "cell_type": "raw",
   "metadata": {},
   "source": [
    "Linear SVM error on test data for 3 features : \n",
    "E0 :  0.20512820512820512  E1 :  0.48863636363636365  E :  0.4372093023255814 \n",
    "\n",
    "RBF SVM error on test data for 3 features : \n",
    "E0 :  0.20512820512820512  E1 :  0.4715909090909091  E :  0.4232558139534884 \n",
    "\n",
    "NN error on test data for 3 features : \n",
    "E0 :  0.358974358974359  E1 :  0.45454545454545453  E :  0.4372093023255814"
   ]
  },
  {
   "cell_type": "code",
   "execution_count": 14,
   "metadata": {},
   "outputs": [
    {
     "name": "stdout",
     "output_type": "stream",
     "text": [
      "Linear SVM Resubstitution for 4 features :  \n",
      "Seq 4 features : \n",
      " 6        ALDH4\n",
      "28      SERF1A\n",
      "4     LOC51203\n",
      "20        MMP9\n",
      "Name: 0, dtype: object  indexed at : [6, 28, 4, 20]\n",
      "E0 :  0.05  E1 :  0.325  E :  0.1875 \n",
      "\n",
      "RBF SVM Resubstitution for 4 features : \n",
      "Seq 4 features : \n",
      " 2     Contig63649_RC\n",
      "33    Contig48328_RC\n",
      "13          KIAA1442\n",
      "49             ORC6L\n",
      "Name: 0, dtype: object  indexed at : [2, 33, 13, 49]\n",
      "E0 :  0.15  E1 :  0.15  E :  0.15 \n",
      "\n",
      "NN Resubstitution for 4 features : \n",
      "Seq 4 features : \n",
      " 4           LOC51203\n",
      "31    Contig32185_RC\n",
      "13          KIAA1442\n",
      "21    Contig55377_RC\n",
      "Name: 0, dtype: object  indexed at : [4, 31, 13, 21]\n",
      "E0 :  0.0  E1 :  0.025  E :  0.0125 \n",
      "\n"
     ]
    }
   ],
   "source": [
    "# Resubstitution error with 4 features\n",
    "\n",
    "E0, E1, E = linear_svm (data, best_features_for_4[0], data, True)\n",
    "print (\"Linear SVM Resubstitution for 4 features :  \")\n",
    "print (\"Seq 4 features : \\n\", data_col[best_features_for_4[0]], \" indexed at :\", best_features_for_4[0])\n",
    "print (\"E0 : \", E0, \" E1 : \", E1, \" E : \", E, \"\\n\")\n",
    "\n",
    "E0, E1, E = rbf_svm (data, best_features_for_4[1], data, True)\n",
    "print (\"RBF SVM Resubstitution for 4 features : \")\n",
    "print (\"Seq 4 features : \\n\", data_col[best_features_for_4[1]], \" indexed at :\", best_features_for_4[1])\n",
    "print (\"E0 : \", E0, \" E1 : \", E1, \" E : \", E, \"\\n\")\n",
    "\n",
    "E0, E1, E = nn (data, best_features_for_4[2], data, True)\n",
    "print (\"NN Resubstitution for 4 features : \")\n",
    "print (\"Seq 4 features : \\n\", data_col[best_features_for_4[2]], \" indexed at :\", best_features_for_4[2])\n",
    "print (\"E0 : \", E0, \" E1 : \", E1, \" E : \", E, \"\\n\")"
   ]
  },
  {
   "cell_type": "raw",
   "metadata": {},
   "source": [
    "Linear SVM Resubstitution for 4 features :  \n",
    "Seq 4 features : \n",
    " 6        ALDH4\n",
    "28      SERF1A\n",
    "4     LOC51203\n",
    "20        MMP9\n",
    "Name: 0, dtype: object  indexed at : [6, 28, 4, 20]\n",
    "E0 :  0.05  E1 :  0.325  E :  0.1875 \n",
    "\n",
    "RBF SVM Resubstitution for 4 features : \n",
    "Seq 4 features : \n",
    " 2     Contig63649_RC\n",
    "33    Contig48328_RC\n",
    "13          KIAA1442\n",
    "49             ORC6L\n",
    "Name: 0, dtype: object  indexed at : [2, 33, 13, 49]\n",
    "E0 :  0.15  E1 :  0.15  E :  0.15 \n",
    "\n",
    "NN Resubstitution for 4 features : \n",
    "Seq 4 features : \n",
    " 4           LOC51203\n",
    "31    Contig32185_RC\n",
    "13          KIAA1442\n",
    "21    Contig55377_RC\n",
    "Name: 0, dtype: object  indexed at : [4, 31, 13, 21]\n",
    "E0 :  0.0  E1 :  0.025  E :  0.0125 "
   ]
  },
  {
   "cell_type": "code",
   "execution_count": 15,
   "metadata": {},
   "outputs": [
    {
     "name": "stdout",
     "output_type": "stream",
     "text": [
      "Linear SVM error on test data for 4 features : \n",
      "E0 :  0.1794871794871795  E1 :  0.5056818181818182  E :  0.44651162790697674 \n",
      "\n",
      "RBF SVM error on test data for 4 features : \n",
      "E0 :  0.2564102564102564  E1 :  0.42613636363636365  E :  0.3953488372093023 \n",
      "\n",
      "NN error on test data for 4 features : \n",
      "E0 :  0.41025641025641024  E1 :  0.4318181818181818  E :  0.42790697674418604 \n",
      "\n"
     ]
    }
   ],
   "source": [
    "# Classification performance with 4 features on test set\n",
    "\n",
    "# Linear SVM performance on test set\n",
    "E0, E1, E = linear_svm (data, best_features_for_4[0], data_test, True)\n",
    "print (\"Linear SVM error on test data for 4 features : \")\n",
    "print (\"E0 : \", E0, \" E1 : \", E1, \" E : \", E, \"\\n\")\n",
    "\n",
    "E0, E1, E = rbf_svm (data, best_features_for_4[1], data_test, True)\n",
    "print (\"RBF SVM error on test data for 4 features : \")\n",
    "print (\"E0 : \", E0, \" E1 : \", E1, \" E : \", E, \"\\n\")\n",
    "\n",
    "E0, E1, E = nn (data, best_features_for_4[2], data_test, True)\n",
    "print (\"NN error on test data for 4 features : \",)\n",
    "print (\"E0 : \", E0, \" E1 : \", E1, \" E : \", E, \"\\n\")"
   ]
  },
  {
   "cell_type": "raw",
   "metadata": {},
   "source": [
    "Linear SVM error on test data for 4 features : \n",
    "E0 :  0.1794871794871795  E1 :  0.5056818181818182  E :  0.44651162790697674 \n",
    "\n",
    "RBF SVM error on test data for 4 features : \n",
    "E0 :  0.2564102564102564  E1 :  0.42613636363636365  E :  0.3953488372093023 \n",
    "\n",
    "NN error on test data for 4 features : \n",
    "E0 :  0.41025641025641024  E1 :  0.4318181818181818  E :  0.42790697674418604"
   ]
  },
  {
   "cell_type": "code",
   "execution_count": 16,
   "metadata": {},
   "outputs": [
    {
     "name": "stdout",
     "output_type": "stream",
     "text": [
      "Linear SVM Resubstitution for 5 features :  \n",
      "Seq 5 features : \n",
      " 45    Contig51464_RC\n",
      "6              ALDH4\n",
      "28            SERF1A\n",
      "4           LOC51203\n",
      "20              MMP9\n",
      "Name: 0, dtype: object  indexed at : [45, 6, 28, 4, 20]\n",
      "E0 :  0.05  E1 :  0.325  E :  0.1875 \n",
      "\n",
      "RBF SVM Resubstitution for 5 features : \n",
      "Seq 5 features : \n",
      " 25               HEC\n",
      "2     Contig63649_RC\n",
      "33    Contig48328_RC\n",
      "13          KIAA1442\n",
      "49             ORC6L\n",
      "Name: 0, dtype: object  indexed at : [25, 2, 33, 13, 49]\n",
      "E0 :  0.175  E1 :  0.1  E :  0.1375 \n",
      "\n",
      "NN Resubstitution for 5 features : \n",
      "Seq 5 features : \n",
      " 4           LOC51203\n",
      "31    Contig32185_RC\n",
      "13          KIAA1442\n",
      "21    Contig55377_RC\n",
      "38    Contig40831_RC\n",
      "Name: 0, dtype: object  indexed at : [4, 31, 13, 21, 38]\n",
      "E0 :  0.025  E1 :  0.0  E :  0.0125 \n",
      "\n"
     ]
    }
   ],
   "source": [
    "# Resubstitution error with 5 features\n",
    "\n",
    "E0, E1, E = linear_svm (data, best_features_for_5[0], data, True)\n",
    "print (\"Linear SVM Resubstitution for 5 features :  \")\n",
    "print (\"Seq 5 features : \\n\", data_col[best_features_for_5[0]], \" indexed at :\", best_features_for_5[0])\n",
    "print (\"E0 : \", E0, \" E1 : \", E1, \" E : \", E, \"\\n\")\n",
    "\n",
    "E0, E1, E = rbf_svm (data, best_features_for_5[1], data, True)\n",
    "print (\"RBF SVM Resubstitution for 5 features : \")\n",
    "print (\"Seq 5 features : \\n\", data_col[best_features_for_5[1]], \" indexed at :\", best_features_for_5[1])\n",
    "print (\"E0 : \", E0, \" E1 : \", E1, \" E : \", E, \"\\n\")\n",
    "\n",
    "E0, E1, E = nn (data, best_features_for_5[2], data, True)\n",
    "print (\"NN Resubstitution for 5 features : \")\n",
    "print (\"Seq 5 features : \\n\", data_col[best_features_for_5[2]], \" indexed at :\", best_features_for_5[2])\n",
    "print (\"E0 : \", E0, \" E1 : \", E1, \" E : \", E, \"\\n\")"
   ]
  },
  {
   "cell_type": "raw",
   "metadata": {},
   "source": [
    "Linear SVM Resubstitution for 5 features :  \n",
    "Seq 5 features : \n",
    " 45    Contig51464_RC\n",
    "6              ALDH4\n",
    "28            SERF1A\n",
    "4           LOC51203\n",
    "20              MMP9\n",
    "Name: 0, dtype: object  indexed at : [45, 6, 28, 4, 20]\n",
    "E0 :  0.05  E1 :  0.325  E :  0.1875 \n",
    "\n",
    "RBF SVM Resubstitution for 5 features : \n",
    "Seq 5 features : \n",
    " 25               HEC\n",
    "2     Contig63649_RC\n",
    "33    Contig48328_RC\n",
    "13          KIAA1442\n",
    "49             ORC6L\n",
    "Name: 0, dtype: object  indexed at : [25, 2, 33, 13, 49]\n",
    "E0 :  0.175  E1 :  0.1  E :  0.1375 \n",
    "\n",
    "NN Resubstitution for 5 features : \n",
    "Seq 5 features : \n",
    " 4           LOC51203\n",
    "31    Contig32185_RC\n",
    "13          KIAA1442\n",
    "21    Contig55377_RC\n",
    "38    Contig40831_RC\n",
    "Name: 0, dtype: object  indexed at : [4, 31, 13, 21, 38]\n",
    "E0 :  0.025  E1 :  0.0  E :  0.0125"
   ]
  },
  {
   "cell_type": "code",
   "execution_count": 17,
   "metadata": {},
   "outputs": [
    {
     "name": "stdout",
     "output_type": "stream",
     "text": [
      "Linear SVM error on test data for 5 features : \n",
      "E0 :  0.1794871794871795  E1 :  0.5113636363636364  E :  0.4511627906976744 \n",
      "\n",
      "RBF SVM error on test data for 5 features : \n",
      "E0 :  0.2564102564102564  E1 :  0.38636363636363635  E :  0.3627906976744186 \n",
      "\n",
      "NN error on test data for 5 features: \n",
      "E0 :  0.38461538461538464  E1 :  0.5  E :  0.4790697674418605 \n",
      "\n"
     ]
    }
   ],
   "source": [
    "# Classification performance with 5 features on test set\n",
    "\n",
    "# Linear SVM performance on test set\n",
    "E0, E1, E = linear_svm (data, best_features_for_5[0], data_test, True)\n",
    "print (\"Linear SVM error on test data for 5 features : \")\n",
    "print (\"E0 : \", E0, \" E1 : \", E1, \" E : \", E, \"\\n\")\n",
    "\n",
    "\n",
    "E0, E1, E = rbf_svm (data, best_features_for_5[1], data_test, True)\n",
    "print (\"RBF SVM error on test data for 5 features : \")\n",
    "print (\"E0 : \", E0, \" E1 : \", E1, \" E : \", E, \"\\n\")\n",
    "\n",
    "\n",
    "E0, E1, E = nn (data, best_features_for_5[2], data_test, True)\n",
    "print (\"NN error on test data for 5 features: \")\n",
    "print (\"E0 : \", E0, \" E1 : \", E1, \" E : \", E, \"\\n\")"
   ]
  },
  {
   "cell_type": "raw",
   "metadata": {},
   "source": [
    "Linear SVM error on test data for 5 features : \n",
    "E0 :  0.1794871794871795  E1 :  0.5113636363636364  E :  0.4511627906976744 \n",
    "\n",
    "RBF SVM error on test data for 5 features : \n",
    "E0 :  0.2564102564102564  E1 :  0.38636363636363635  E :  0.3627906976744186 \n",
    "\n",
    "NN error on test data for 5 features: \n",
    "E0 :  0.38461538461538464  E1 :  0.5  E :  0.4790697674418605"
   ]
  },
  {
   "cell_type": "code",
   "execution_count": 18,
   "metadata": {},
   "outputs": [
    {
     "name": "stdout",
     "output_type": "stream",
     "text": [
      "Resubstitution error with all features linear svm : \n",
      "E0 :  0.075  E1 :  0.025  E :  0.05 \n",
      "\n",
      "Resubstitution error with all features rbf svm : \n",
      "E0 :  0.1  E1 :  0.025  E :  0.0625 \n",
      "\n",
      "Resubstitution error with all features nn : \n",
      "E0 :  0.0  E1 :  0.0  E :  0.0 \n",
      "\n"
     ]
    }
   ],
   "source": [
    "# Resubstitution error for all features\n",
    "\n",
    "E0, E1, E = linear_svm (data, list(range(1,71)), data, True)\n",
    "print (\"Resubstitution error with all features linear svm : \")\n",
    "print (\"E0 : \", E0, \" E1 : \", E1, \" E : \", E, \"\\n\")\n",
    "\n",
    "E0, E1, E = rbf_svm (data, list(range(1,71)), data, True)\n",
    "print (\"Resubstitution error with all features rbf svm : \")\n",
    "print (\"E0 : \", E0, \" E1 : \", E1, \" E : \", E, \"\\n\")\n",
    "\n",
    "E0, E1, E = nn (data, list(range(1,71)), data, True)\n",
    "print (\"Resubstitution error with all features nn : \",)\n",
    "print (\"E0 : \", E0, \" E1 : \", E1, \" E : \", E, \"\\n\")\n"
   ]
  },
  {
   "cell_type": "raw",
   "metadata": {},
   "source": [
    "Resubstitution error with all features linear svm : \n",
    "E0 :  0.075  E1 :  0.025  E :  0.05 \n",
    "\n",
    "Resubstitution error with all features rbf svm : \n",
    "E0 :  0.1  E1 :  0.025  E :  0.0625 \n",
    "\n",
    "Resubstitution error with all features nn : \n",
    "E0 :  0.0  E1 :  0.0  E :  0.0"
   ]
  },
  {
   "cell_type": "code",
   "execution_count": 19,
   "metadata": {},
   "outputs": [
    {
     "name": "stdout",
     "output_type": "stream",
     "text": [
      "Error with all features linear svm on test set : \n",
      "E0 :  0.38461538461538464  E1 :  0.32954545454545453  E :  0.3395348837209302 \n",
      "\n",
      "Error with all features rbf svm on test set : \n",
      "E0 :  0.38461538461538464  E1 :  0.3352272727272727  E :  0.34418604651162793 \n",
      "\n",
      "Error with all features nn on test set : \n",
      "E0 :  0.23076923076923078  E1 :  0.38636363636363635  E :  0.3581395348837209 \n",
      "\n"
     ]
    }
   ],
   "source": [
    "E0, E1, E = linear_svm (data, list(range(1,71)), data_test, True)\n",
    "print (\"Error with all features linear svm on test set : \")\n",
    "print (\"E0 : \", E0, \" E1 : \", E1, \" E : \", E, \"\\n\")\n",
    "\n",
    "E0, E1, E = rbf_svm (data, list(range(1,71)), data_test, True)\n",
    "print (\"Error with all features rbf svm on test set : \")\n",
    "print (\"E0 : \", E0, \" E1 : \", E1, \" E : \", E, \"\\n\")\n",
    "\n",
    "E0, E1, E = nn (data, list(range(1,71)), data_test, True)\n",
    "print (\"Error with all features nn on test set : \")\n",
    "print (\"E0 : \", E0, \" E1 : \", E1, \" E : \", E, \"\\n\")"
   ]
  },
  {
   "cell_type": "raw",
   "metadata": {},
   "source": [
    "Error with all features linear svm on test set : \n",
    "E0 :  0.38461538461538464  E1 :  0.32954545454545453  E :  0.3395348837209302 \n",
    "\n",
    "Error with all features rbf svm on test set : \n",
    "E0 :  0.38461538461538464  E1 :  0.3352272727272727  E :  0.34418604651162793 \n",
    "\n",
    "Error with all features nn on test set : \n",
    "E0 :  0.23076923076923078  E1 :  0.38636363636363635  E :  0.3581395348837209"
   ]
  }
 ],
 "metadata": {
  "kernelspec": {
   "display_name": "Python 3",
   "language": "python",
   "name": "python3"
  },
  "language_info": {
   "codemirror_mode": {
    "name": "ipython",
    "version": 3
   },
   "file_extension": ".py",
   "mimetype": "text/x-python",
   "name": "python",
   "nbconvert_exporter": "python",
   "pygments_lexer": "ipython3",
   "version": "3.5.2"
  }
 },
 "nbformat": 4,
 "nbformat_minor": 2
}
