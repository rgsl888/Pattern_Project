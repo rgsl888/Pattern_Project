{
 "cells": [
  {
   "cell_type": "code",
   "execution_count": 1,
   "metadata": {},
   "outputs": [
    {
     "name": "stderr",
     "output_type": "stream",
     "text": [
      "Using TensorFlow backend.\n"
     ]
    }
   ],
   "source": [
    "import keras as k\n",
    "from keras.applications.vgg16 import VGG16\n",
    "import pandas as pd\n",
    "from keras.models import Model\n",
    "from keras.preprocessing import image\n",
    "from keras.applications.vgg16 import preprocess_input\n",
    "import numpy as np\n",
    "from sklearn.model_selection import cross_validate\n",
    "from sklearn import svm"
   ]
  },
  {
   "cell_type": "code",
   "execution_count": 2,
   "metadata": {},
   "outputs": [],
   "source": [
    "# Extract and create the data set\n",
    "data = pd.read_csv(\"data/micrograph.csv\")"
   ]
  },
  {
   "cell_type": "code",
   "execution_count": 3,
   "metadata": {},
   "outputs": [],
   "source": [
    "data_spheroidite = data.loc[data['primary_microconstituent'] == 'spheroidite'].copy()\n",
    "data_network = data.loc[data['primary_microconstituent'] == 'network'].copy()\n",
    "data_pearlite = data.loc[data['primary_microconstituent'] == 'pearlite'].copy()\n",
    "\n",
    "\n",
    "img = image.img_to_array(image.load_img(\"data/micrograph/\"+data_spheroidite['path'].iloc[0]))\n",
    "img = img[0:484,:,:]\n",
    "img = np.expand_dims(img, axis=0)\n",
    "img = preprocess_input(img)"
   ]
  },
  {
   "cell_type": "code",
   "execution_count": 4,
   "metadata": {},
   "outputs": [
    {
     "name": "stdout",
     "output_type": "stream",
     "text": [
      "WARNING:tensorflow:From /home/rgsl888/.local/lib/python3.5/site-packages/tensorflow/python/framework/op_def_library.py:263: colocate_with (from tensorflow.python.framework.ops) is deprecated and will be removed in a future version.\n",
      "Instructions for updating:\n",
      "Colocations handled automatically by placer.\n"
     ]
    }
   ],
   "source": [
    "model = VGG16(weights = 'imagenet', include_top=False)"
   ]
  },
  {
   "cell_type": "code",
   "execution_count": 5,
   "metadata": {},
   "outputs": [],
   "source": [
    "layer_name = 'my_layer'\n",
    "intermediate_layer_model = Model(inputs=model.input,\n",
    "                                 outputs=[model.get_layer(index=3).output, \n",
    "                                          model.get_layer(index=6).output,\n",
    "                                          model.get_layer(index=10).output,\n",
    "                                          model.get_layer(index=14).output,\n",
    "                                          model.get_layer(index=18).output])\n",
    "\n"
   ]
  },
  {
   "cell_type": "code",
   "execution_count": 6,
   "metadata": {},
   "outputs": [],
   "source": [
    "def extract_features (data):\n",
    "    data['c12'] = [np.empty(1) for i in range(data.shape[0])]\n",
    "    data['c22'] = [np.empty(1) for i in range(data.shape[0])]\n",
    "    data['c33'] = [np.empty(1) for i in range(data.shape[0])]\n",
    "    data['c43'] = [np.empty(1) for i in range(data.shape[0])]\n",
    "    data['c53'] = [np.empty(1) for i in range(data.shape[0])]\n",
    "    \n",
    "    for index, row in data.iterrows():\n",
    "        img = image.img_to_array(image.load_img(\"data/micrograph/\"+row['path']))\n",
    "        img = img[0:484,:,:]\n",
    "        img = np.expand_dims(img, axis=0)\n",
    "        img = preprocess_input(img)\n",
    "        print(img.shape)\n",
    "        c12, c22, c33, c43, c53 = intermediate_layer_model.predict(img)\n",
    "        data.at[index,'c12'] = c12.mean(axis=(0,1,2,))\n",
    "        data.at[index,'c22'] = c22.mean(axis=(0,1,2,))\n",
    "        data.at[index,'c33'] = c33.mean(axis=(0,1,2,))\n",
    "        data.at[index,'c43'] = c43.mean(axis=(0,1,2,))\n",
    "        data.at[index,'c53'] = c53.mean(axis=(0,1,2,))\n",
    "        break"
   ]
  },
  {
   "cell_type": "code",
   "execution_count": 7,
   "metadata": {},
   "outputs": [
    {
     "name": "stdout",
     "output_type": "stream",
     "text": [
      "(1, 484, 645, 3)\n",
      "(1, 484, 645, 3)\n",
      "(1, 484, 645, 3)\n"
     ]
    }
   ],
   "source": [
    "%timeit\n",
    "extract_features (data_spheroidite)\n",
    "%timeit\n",
    "extract_features (data_network)\n",
    "%timeit\n",
    "extract_features (data_pearlite)"
   ]
  },
  {
   "cell_type": "code",
   "execution_count": 8,
   "metadata": {},
   "outputs": [],
   "source": [
    "#train data\n",
    "\n",
    "train_data_spher_netwk = pd.DataFrame ({'c12': np.append(data_spheroidite[0:100]['c12'].values, data_network[0:100]['c12'].values),\n",
    "                                   'c22': np.append(data_spheroidite[0:100]['c22'].values, data_network[0:100]['c22'].values),\n",
    "                                   'c33': np.append(data_spheroidite[0:100]['c33'].values, data_network[0:100]['c33'].values),\n",
    "                                   'c43': np.append(data_spheroidite[0:100]['c43'].values, data_network[0:100]['c43'].values),\n",
    "                                   'c53': np.append(data_spheroidite[0:100]['c53'].values, data_network[0:100]['c53'].values),\n",
    "                                   'type': np.append(np.zeros(100), np.ones(100))}).sample(frac=1, random_state=0)\n",
    "\n",
    "train_data_netwk_pearl = pd.DataFrame ({'c12': np.append(data_network[0:100]['c12'].values, data_pearlite[0:100]['c12'].values),\n",
    "                                   'c22': np.append(data_network[0:100]['c22'].values, data_pearlite[0:100]['c22'].values),\n",
    "                                   'c33': np.append(data_network[0:100]['c33'].values, data_pearlite[0:100]['c33'].values),\n",
    "                                   'c43': np.append(data_network[0:100]['c43'].values, data_pearlite[0:100]['c43'].values),\n",
    "                                   'c53': np.append(data_network[0:100]['c53'].values, data_pearlite[0:100]['c53'].values),\n",
    "                                   'type': np.append(np.zeros(100), np.ones(100))}).sample(frac=1, random_state=0)\n",
    "\n",
    "train_data_pearl_spher = pd.DataFrame ({'c12': np.append(data_pearlite[0:100]['c12'].values, data_spheroidite[0:100]['c12'].values),\n",
    "                                   'c22': np.append(data_pearlite[0:100]['c22'].values, data_spheroidite[0:100]['c22'].values),\n",
    "                                   'c33': np.append(data_pearlite[0:100]['c33'].values, data_spheroidite[0:100]['c33'].values),\n",
    "                                   'c43': np.append(data_pearlite[0:100]['c43'].values, data_spheroidite[0:100]['c43'].values),\n",
    "                                   'c53': np.append(data_pearlite[0:100]['c53'].values, data_spheroidite[0:100]['c53'].values),\n",
    "                                   'type' : np.append(np.zeros(100), np.ones(100))}).sample(frac=1, random_state=0)\n"
   ]
  },
  {
   "cell_type": "code",
   "execution_count": 9,
   "metadata": {},
   "outputs": [],
   "source": [
    "# test_data\n",
    "\n",
    "test_data_spher_netwk = pd.DataFrame ({'c12': np.append(data_spheroidite[100:]['c12'].values, data_network[100:]['c12'].values),\n",
    "                                   'c22': np.append(data_spheroidite[100:]['c22'].values, data_network[100:]['c22'].values),\n",
    "                                   'c33': np.append(data_spheroidite[100:]['c33'].values, data_network[100:]['c33'].values),\n",
    "                                   'c43': np.append(data_spheroidite[100:]['c43'].values, data_network[100:]['c43'].values),\n",
    "                                   'c53': np.append(data_spheroidite[100:]['c53'].values, data_network[100:]['c53'].values),\n",
    "                                   'type' : np.append(np.zeros(data_spheroidite[100:].shape[0]), np.ones(data_network[100:].shape[0]))})\n",
    "\n",
    "test_data_netwk_pearl = pd.DataFrame ({'c12': np.append(data_network[100:]['c12'].values, data_pearlite[100:]['c12'].values),\n",
    "                                   'c22': np.append(data_network[100:]['c22'].values, data_pearlite[100:]['c22'].values),\n",
    "                                   'c33': np.append(data_network[100:]['c33'].values, data_pearlite[100:]['c33'].values),\n",
    "                                   'c43': np.append(data_network[100:]['c43'].values, data_pearlite[100:]['c43'].values),\n",
    "                                   'c53': np.append(data_network[100:]['c53'].values, data_pearlite[100:]['c53'].values),\n",
    "                                   'type' : np.append(np.zeros(data_network[100:].shape[0]), np.ones(data_pearlite[100:].shape[0]))})\n",
    "\n",
    "test_data_pearl_spher = pd.DataFrame ({'c12': np.append(data_pearlite[100:]['c12'].values, data_spheroidite[100:]['c12'].values),\n",
    "                                   'c22': np.append(data_pearlite[100:]['c22'].values, data_spheroidite[100:]['c22'].values),\n",
    "                                   'c33': np.append(data_pearlite[100:]['c33'].values, data_spheroidite[100:]['c33'].values),\n",
    "                                   'c43': np.append(data_pearlite[100:]['c43'].values, data_spheroidite[100:]['c43'].values),\n",
    "                                   'c53': np.append(data_pearlite[100:]['c53'].values, data_spheroidite[100:]['c53'].values),\n",
    "                                   'type' : np.append(np.zeros(data_pearlite[100:].shape[0]), np.ones(data_spheroidite[100:].shape[0]))})\n"
   ]
  },
  {
   "cell_type": "code",
   "execution_count": 10,
   "metadata": {},
   "outputs": [
    {
     "data": {
      "text/plain": [
       "numpy.ndarray"
      ]
     },
     "execution_count": 10,
     "metadata": {},
     "output_type": "execute_result"
    }
   ],
   "source": [
    "type(train_data_spher_netwk['type'].values)"
   ]
  },
  {
   "cell_type": "code",
   "execution_count": 11,
   "metadata": {},
   "outputs": [
    {
     "name": "stdout",
     "output_type": "stream",
     "text": [
      "c12 score :  0.7050000000000001\n",
      "c22 score :  0.905\n",
      "c33 score :  0.975\n",
      "c43 score :  0.985\n",
      "c53 score :  0.99\n"
     ]
    }
   ],
   "source": [
    "#spheroidite and network\n",
    "\n",
    "# c12\n",
    "sp_nt_clf12 = svm.SVC(kernel='rbf', gamma='scale', random_state=0)\n",
    "scores = cross_validate(sp_nt_clf12, list(train_data_spher_netwk['c12'].values), list(train_data_spher_netwk['type'].values), cv=10)\n",
    "#scores['test_recall_macro']\n",
    "print (\"c12 score : \", scores['test_score'].mean())\n",
    "\n",
    "# c22\n",
    "sp_nt_clf22 = svm.SVC(kernel='rbf', gamma='scale', random_state=0)\n",
    "scores = cross_validate(sp_nt_clf22, list(train_data_spher_netwk['c22'].values), list(train_data_spher_netwk['type'].values), cv=10)\n",
    "#scores['test_recall_macro']\n",
    "print (\"c22 score : \", scores['test_score'].mean())\n",
    "\n",
    "# c33\n",
    "sp_nt_clf33 = svm.SVC(kernel='rbf', gamma='scale', random_state=0)\n",
    "scores = cross_validate(sp_nt_clf33, list(train_data_spher_netwk['c33'].values), list(train_data_spher_netwk['type'].values), cv=10)\n",
    "#scores['test_recall_macro']\n",
    "print (\"c33 score : \", scores['test_score'].mean())\n",
    "\n",
    "# c43\n",
    "sp_nt_clf43 = svm.SVC(kernel='rbf', gamma='scale', random_state=0)\n",
    "scores = cross_validate(sp_nt_clf43, list(train_data_spher_netwk['c43'].values), list(train_data_spher_netwk['type'].values), cv=10)\n",
    "#scores['test_recall_macro']\n",
    "print (\"c43 score : \", scores['test_score'].mean())\n",
    "\n",
    "# c53\n",
    "sp_nt_clf53 = svm.SVC(kernel='rbf', gamma='scale', random_state=0)\n",
    "scores = cross_validate(sp_nt_clf53, list(train_data_spher_netwk['c53'].values), list(train_data_spher_netwk['type'].values), cv=10)\n",
    "#scores['test_recall_macro']\n",
    "print (\"c53 score : \", scores['test_score'].mean())"
   ]
  },
  {
   "cell_type": "code",
   "execution_count": 12,
   "metadata": {},
   "outputs": [
    {
     "name": "stdout",
     "output_type": "stream",
     "text": [
      "c12 score :  0.885\n",
      "c22 score :  0.925\n",
      "c33 score :  0.9650000000000001\n",
      "c43 score :  0.99\n",
      "c53 score :  1.0\n"
     ]
    }
   ],
   "source": [
    "#network and pearlite\n",
    "\n",
    "# c12\n",
    "nt_pl_clf12 = svm.SVC(kernel='rbf', gamma='scale', random_state=0)\n",
    "scores = cross_validate(nt_pl_clf12, list(train_data_netwk_pearl['c12'].values), list(train_data_netwk_pearl['type'].values), cv=10)\n",
    "#scores['test_recall_macro']\n",
    "print (\"c12 score : \", scores['test_score'].mean())\n",
    "\n",
    "# c22\n",
    "nt_pl_clf22 = svm.SVC(kernel='rbf', gamma='scale', random_state=0)\n",
    "scores = cross_validate(nt_pl_clf22, list(train_data_netwk_pearl['c22'].values), list(train_data_netwk_pearl['type'].values), cv=10)\n",
    "#scores['test_recall_macro']\n",
    "print (\"c22 score : \", scores['test_score'].mean())\n",
    "\n",
    "# c33\n",
    "nt_pl_clf33 = svm.SVC(kernel='rbf', gamma='scale', random_state=0)\n",
    "scores = cross_validate(nt_pl_clf33, list(train_data_netwk_pearl['c33'].values), list(train_data_netwk_pearl['type'].values), cv=10)\n",
    "#scores['test_recall_macro']\n",
    "print (\"c33 score : \", scores['test_score'].mean())\n",
    "\n",
    "# c43\n",
    "nt_pl_clf43 = svm.SVC(kernel='rbf', gamma='scale', random_state=0)\n",
    "scores = cross_validate(nt_pl_clf43, list(train_data_netwk_pearl['c43'].values), list(train_data_netwk_pearl['type'].values), cv=10)\n",
    "#scores['test_recall_macro']\n",
    "print (\"c43 score : \", scores['test_score'].mean())\n",
    "\n",
    "# c53\n",
    "nt_pl_clf53 = svm.SVC(kernel='rbf', gamma='scale', random_state=0)\n",
    "scores = cross_validate(nt_pl_clf53, list(train_data_netwk_pearl['c53'].values), list(train_data_netwk_pearl['type'].values), cv=10)\n",
    "#scores['test_recall_macro']\n",
    "print (\"c53 score : \", scores['test_score'].mean())"
   ]
  },
  {
   "cell_type": "code",
   "execution_count": 13,
   "metadata": {},
   "outputs": [
    {
     "name": "stdout",
     "output_type": "stream",
     "text": [
      "c12 score :  0.8350000000000002\n",
      "c22 score :  0.885\n",
      "c33 score :  0.9800000000000001\n",
      "c43 score :  0.9899999999999999\n",
      "c53 score :  0.99\n"
     ]
    }
   ],
   "source": [
    "#pearlite and spheroidite\n",
    "\n",
    "# c12\n",
    "pl_sp_clf12 = svm.SVC(kernel='rbf', gamma='scale', random_state=0)\n",
    "scores = cross_validate(pl_sp_clf12, list(train_data_pearl_spher['c12'].values), list(train_data_pearl_spher['type'].values), cv=10)\n",
    "#scores['test_recall_macro']\n",
    "print (\"c12 score : \", scores['test_score'].mean())\n",
    "\n",
    "# c22\n",
    "pl_sp_clf22 = svm.SVC(kernel='rbf', gamma='scale', random_state=0)\n",
    "scores = cross_validate(pl_sp_clf22, list(train_data_pearl_spher['c22'].values), list(train_data_pearl_spher['type'].values), cv=10)\n",
    "#scores['test_recall_macro']\n",
    "print (\"c22 score : \", scores['test_score'].mean())\n",
    "\n",
    "# c33\n",
    "pl_sp_clf33 = svm.SVC(kernel='rbf', gamma='scale', random_state=0)\n",
    "scores = cross_validate(pl_sp_clf33, list(train_data_pearl_spher['c33'].values), list(train_data_pearl_spher['type'].values), cv=10)\n",
    "#scores['test_recall_macro']\n",
    "print (\"c33 score : \", scores['test_score'].mean())\n",
    "\n",
    "# c43\n",
    "pl_sp_clf43 = svm.SVC(kernel='rbf', gamma='scale', random_state=0)\n",
    "scores = cross_validate(pl_sp_clf43, list(train_data_pearl_spher['c43'].values), list(train_data_pearl_spher['type'].values), cv=10)\n",
    "#scores['test_recall_macro']\n",
    "print (\"c43 score : \", scores['test_score'].mean())\n",
    "\n",
    "# c53\n",
    "pl_sp_clf53 = svm.SVC(kernel='rbf', gamma='scale', random_state=0)\n",
    "scores = cross_validate(pl_sp_clf53, list(train_data_pearl_spher['c53'].values), list(train_data_pearl_spher['type'].values), cv=10)\n",
    "#scores['test_recall_macro']\n",
    "print (\"c53 score : \", scores['test_score'].mean())"
   ]
  },
  {
   "cell_type": "code",
   "execution_count": 14,
   "metadata": {},
   "outputs": [
    {
     "name": "stdout",
     "output_type": "stream",
     "text": [
      "0.9896373056994818\n"
     ]
    }
   ],
   "source": [
    "sp_nt_clf53 = svm.SVC(kernel='rbf', gamma='scale', random_state=0)\n",
    "sp_nt_clf53.fit(list(train_data_spher_netwk['c53'].values), list(train_data_spher_netwk['type'].values))\n",
    "print(sp_nt_clf53.score(list(test_data_spher_netwk['c53'].values), list(test_data_spher_netwk['type'].values)))"
   ]
  },
  {
   "cell_type": "code",
   "execution_count": 15,
   "metadata": {},
   "outputs": [
    {
     "name": "stdout",
     "output_type": "stream",
     "text": [
      "0.9926470588235294\n"
     ]
    }
   ],
   "source": [
    "nt_pl_clf53 = svm.SVC(kernel='rbf', gamma='scale', random_state=0)\n",
    "nt_pl_clf53.fit(list(train_data_netwk_pearl['c53'].values), list(train_data_netwk_pearl['type'].values))\n",
    "print(nt_pl_clf53.score(list(test_data_netwk_pearl['c53'].values), list(test_data_netwk_pearl['type'].values)))"
   ]
  },
  {
   "cell_type": "code",
   "execution_count": 16,
   "metadata": {},
   "outputs": [
    {
     "name": "stdout",
     "output_type": "stream",
     "text": [
      "0.9899328859060402\n"
     ]
    }
   ],
   "source": [
    "pl_sp_clf53 = svm.SVC(kernel='rbf', gamma='scale', random_state=0)\n",
    "pl_sp_clf53.fit(list(train_data_pearl_spher['c53'].values), list(train_data_pearl_spher['type'].values))\n",
    "print(pl_sp_clf53.score(list(test_data_pearl_spher['c53'].values), list(test_data_pearl_spher['type'].values)))"
   ]
  },
  {
   "cell_type": "code",
   "execution_count": 17,
   "metadata": {},
   "outputs": [],
   "source": [
    "# For spherodite\n",
    "pred_1 = sp_nt_clf53.predict(list(data_spheroidite[100:]['c53'].values))\n",
    "pred_2 = pl_sp_clf53.predict(list(data_spheroidite[100:]['c53'].values))\n",
    "correct_pred_sph = np.array(pred_1 == 0.0) & np.array(pred_2 == 1.0)\n",
    "\n",
    "# For network\n",
    "pred_1 = nt_pl_clf53.predict(list(data_network[100:]['c53'].values))\n",
    "pred_2 = sp_nt_clf53.predict(list(data_network[100:]['c53'].values))\n",
    "correct_pred_ntwk = np.array(pred_1 == 0.0) & np.array(pred_2 == 1.0)\n",
    "\n",
    "# For pearlite\n",
    "pred_1 = pl_sp_clf53.predict(list(data_pearlite[100:]['c53'].values))\n",
    "pred_2 = nt_pl_clf53.predict(list(data_pearlite[100:]['c53'].values))\n",
    "correct_pred_pl = np.array(pred_1 == 0.0) & np.array(pred_2 == 1.0)"
   ]
  },
  {
   "cell_type": "code",
   "execution_count": 18,
   "metadata": {},
   "outputs": [
    {
     "name": "stdout",
     "output_type": "stream",
     "text": [
      "Total error :  0.9829268292682927\n"
     ]
    }
   ],
   "source": [
    "prediction = np.append(np.append(correct_pred_sph, correct_pred_ntwk), correct_pred_pl)\n",
    "\n",
    "total_error = prediction[prediction == True].shape[0]/prediction.shape[0]\n",
    "print (\"Total error : \", total_error)"
   ]
  },
  {
   "cell_type": "code",
   "execution_count": null,
   "metadata": {},
   "outputs": [],
   "source": []
  },
  {
   "cell_type": "code",
   "execution_count": 115,
   "metadata": {},
   "outputs": [],
   "source": [
    "data_spheroidite.to_csv('data/sperodite.csv', sep=',')\n",
    "data_network.to_csv('data/network.csv', sep=',')\n",
    "data_pearlite.to_csv('data/pearlite.csv', sep=',')"
   ]
  },
  {
   "cell_type": "code",
   "execution_count": 11,
   "metadata": {},
   "outputs": [],
   "source": [
    "data_spheroidite.to_csv('data/sperodite_t.csv', sep='\\t')\n",
    "data_network.to_csv('data/network_t.csv', sep='\\t')\n",
    "data_pearlite.to_csv('data/pearlite_t.csv', sep='\\t')"
   ]
  },
  {
   "cell_type": "code",
   "execution_count": 33,
   "metadata": {},
   "outputs": [
    {
     "data": {
      "text/plain": [
       "'micrograph2.tif'"
      ]
     },
     "execution_count": 33,
     "metadata": {},
     "output_type": "execute_result"
    }
   ],
   "source": [
    "data_spheroidite['path'].iloc[0]"
   ]
  },
  {
   "cell_type": "code",
   "execution_count": 37,
   "metadata": {},
   "outputs": [],
   "source": [
    "?cross_validate"
   ]
  },
  {
   "cell_type": "code",
   "execution_count": 20,
   "metadata": {},
   "outputs": [
    {
     "data": {
      "text/plain": [
       "(1, 242, 322, 64)"
      ]
     },
     "execution_count": 20,
     "metadata": {},
     "output_type": "execute_result"
    }
   ],
   "source": [
    "intermediate_output.shape"
   ]
  },
  {
   "cell_type": "code",
   "execution_count": 52,
   "metadata": {},
   "outputs": [],
   "source": [
    "a = [5, 6, 7, 8]\n",
    "df = pd.DataFrame({\"a\": [5, 6 , 7 , 8], \"b\": [5, 6, 7, 8]})"
   ]
  },
  {
   "cell_type": "code",
   "execution_count": 62,
   "metadata": {},
   "outputs": [
    {
     "data": {
      "text/html": [
       "<div>\n",
       "<style scoped>\n",
       "    .dataframe tbody tr th:only-of-type {\n",
       "        vertical-align: middle;\n",
       "    }\n",
       "\n",
       "    .dataframe tbody tr th {\n",
       "        vertical-align: top;\n",
       "    }\n",
       "\n",
       "    .dataframe thead th {\n",
       "        text-align: right;\n",
       "    }\n",
       "</style>\n",
       "<table border=\"1\" class=\"dataframe\">\n",
       "  <thead>\n",
       "    <tr style=\"text-align: right;\">\n",
       "      <th></th>\n",
       "      <th>a</th>\n",
       "      <th>b</th>\n",
       "    </tr>\n",
       "  </thead>\n",
       "  <tbody>\n",
       "    <tr>\n",
       "      <th>2</th>\n",
       "      <td>7</td>\n",
       "      <td>7</td>\n",
       "    </tr>\n",
       "    <tr>\n",
       "      <th>3</th>\n",
       "      <td>8</td>\n",
       "      <td>8</td>\n",
       "    </tr>\n",
       "    <tr>\n",
       "      <th>1</th>\n",
       "      <td>6</td>\n",
       "      <td>6</td>\n",
       "    </tr>\n",
       "    <tr>\n",
       "      <th>0</th>\n",
       "      <td>5</td>\n",
       "      <td>5</td>\n",
       "    </tr>\n",
       "  </tbody>\n",
       "</table>\n",
       "</div>"
      ],
      "text/plain": [
       "   a  b\n",
       "2  7  7\n",
       "3  8  8\n",
       "1  6  6\n",
       "0  5  5"
      ]
     },
     "execution_count": 62,
     "metadata": {},
     "output_type": "execute_result"
    }
   ],
   "source": [
    "df.sample(frac=1, random_state=0)"
   ]
  },
  {
   "cell_type": "code",
   "execution_count": 39,
   "metadata": {},
   "outputs": [],
   "source": [
    "df1 = pd.DataFrame({\"a\": np.append(y,y)})"
   ]
  },
  {
   "cell_type": "code",
   "execution_count": 40,
   "metadata": {},
   "outputs": [
    {
     "data": {
      "text/html": [
       "<div>\n",
       "<style scoped>\n",
       "    .dataframe tbody tr th:only-of-type {\n",
       "        vertical-align: middle;\n",
       "    }\n",
       "\n",
       "    .dataframe tbody tr th {\n",
       "        vertical-align: top;\n",
       "    }\n",
       "\n",
       "    .dataframe thead th {\n",
       "        text-align: right;\n",
       "    }\n",
       "</style>\n",
       "<table border=\"1\" class=\"dataframe\">\n",
       "  <thead>\n",
       "    <tr style=\"text-align: right;\">\n",
       "      <th></th>\n",
       "      <th>a</th>\n",
       "    </tr>\n",
       "  </thead>\n",
       "  <tbody>\n",
       "    <tr>\n",
       "      <th>0</th>\n",
       "      <td>5</td>\n",
       "    </tr>\n",
       "    <tr>\n",
       "      <th>1</th>\n",
       "      <td>6</td>\n",
       "    </tr>\n",
       "    <tr>\n",
       "      <th>2</th>\n",
       "      <td>5</td>\n",
       "    </tr>\n",
       "    <tr>\n",
       "      <th>3</th>\n",
       "      <td>6</td>\n",
       "    </tr>\n",
       "  </tbody>\n",
       "</table>\n",
       "</div>"
      ],
      "text/plain": [
       "   a\n",
       "0  5\n",
       "1  6\n",
       "2  5\n",
       "3  6"
      ]
     },
     "execution_count": 40,
     "metadata": {},
     "output_type": "execute_result"
    }
   ],
   "source": [
    "df1"
   ]
  },
  {
   "cell_type": "code",
   "execution_count": 117,
   "metadata": {},
   "outputs": [],
   "source": [
    "def sam(df):\n",
    "    for index, row in df.iterrows():\n",
    "        print(index)\n",
    "        row['a']=5"
   ]
  },
  {
   "cell_type": "code",
   "execution_count": 118,
   "metadata": {},
   "outputs": [
    {
     "name": "stdout",
     "output_type": "stream",
     "text": [
      "0\n",
      "1\n"
     ]
    }
   ],
   "source": [
    "sam(df)"
   ]
  },
  {
   "cell_type": "code",
   "execution_count": 153,
   "metadata": {},
   "outputs": [
    {
     "data": {
      "text/plain": [
       "[0,\n",
       " 1,\n",
       " 2,\n",
       " 3,\n",
       " 4,\n",
       " 5,\n",
       " 6,\n",
       " 7,\n",
       " 8,\n",
       " 9,\n",
       " 10,\n",
       " 11,\n",
       " 12,\n",
       " 13,\n",
       " 14,\n",
       " 15,\n",
       " 16,\n",
       " 17,\n",
       " 18,\n",
       " 19,\n",
       " 20,\n",
       " 21,\n",
       " 22,\n",
       " 23,\n",
       " 24,\n",
       " 25,\n",
       " 26,\n",
       " 27,\n",
       " 28,\n",
       " 29,\n",
       " 30,\n",
       " 31,\n",
       " 32,\n",
       " 33,\n",
       " 34,\n",
       " 35,\n",
       " 36,\n",
       " 37,\n",
       " 38,\n",
       " 39,\n",
       " 40,\n",
       " 41,\n",
       " 42,\n",
       " 43,\n",
       " 44,\n",
       " 45,\n",
       " 46,\n",
       " 47,\n",
       " 48,\n",
       " 49,\n",
       " 50,\n",
       " 51,\n",
       " 52,\n",
       " 53,\n",
       " 54,\n",
       " 55,\n",
       " 56,\n",
       " 57,\n",
       " 58,\n",
       " 59,\n",
       " 60,\n",
       " 61,\n",
       " 62,\n",
       " 63,\n",
       " 64,\n",
       " 65,\n",
       " 66,\n",
       " 67,\n",
       " 68,\n",
       " 69,\n",
       " 70,\n",
       " 71,\n",
       " 72,\n",
       " 73,\n",
       " 74,\n",
       " 75,\n",
       " 76,\n",
       " 77,\n",
       " 78,\n",
       " 79,\n",
       " 80,\n",
       " 81,\n",
       " 82,\n",
       " 83,\n",
       " 84,\n",
       " 85,\n",
       " 86,\n",
       " 87,\n",
       " 88,\n",
       " 89,\n",
       " 90,\n",
       " 91,\n",
       " 92,\n",
       " 93,\n",
       " 94,\n",
       " 95,\n",
       " 96,\n",
       " 97,\n",
       " 98,\n",
       " 99]"
      ]
     },
     "execution_count": 153,
     "metadata": {},
     "output_type": "execute_result"
    }
   ],
   "source": [
    "[x for x in range(0,100)]"
   ]
  },
  {
   "cell_type": "code",
   "execution_count": 44,
   "metadata": {},
   "outputs": [
    {
     "data": {
      "text/plain": [
       "array([341.3344  , 185.11885 , 150.824   , 112.44451 , 327.8188  ,\n",
       "       275.09537 , 198.18904 , 102.41569 , 242.96877 , 136.56586 ,\n",
       "       371.4226  , 115.533806, 225.17302 , 275.53955 ,  62.7535  ,\n",
       "       116.48405 , 227.53041 , 272.0164  , 102.508705, 218.12967 ,\n",
       "       336.26205 , 146.76839 , 143.13101 ,  22.458551, 185.24213 ,\n",
       "       112.42335 , 245.81418 , 354.76944 , 238.9223  , 318.40817 ,\n",
       "       276.80017 ,  75.56907 , 203.20589 , 224.17995 , 201.61795 ,\n",
       "       207.20468 , 162.43324 , 297.76343 , 149.47534 ,  98.867065,\n",
       "       274.83307 , 213.31392 , 256.21606 , 232.32637 , 216.25096 ,\n",
       "        43.664513, 187.11922 , 392.18225 , 142.88338 ,  10.734444,\n",
       "       340.461   , 115.634865, 317.44736 , 323.36084 ,   3.922971,\n",
       "       326.60004 , 279.1217  , 253.99638 , 255.02556 , 299.32828 ,\n",
       "        71.582535,  82.9605  , 293.3207  , 207.816   ], dtype=float32)"
      ]
     },
     "execution_count": 44,
     "metadata": {},
     "output_type": "execute_result"
    }
   ],
   "source": [
    "list(train_data_spher_netwk['c12'].values)[1]"
   ]
  },
  {
   "cell_type": "code",
   "execution_count": 27,
   "metadata": {},
   "outputs": [
    {
     "data": {
      "text/plain": [
       "array([306.60367 , 173.878   , 144.62267 , 103.02746 , 373.48346 ,\n",
       "       234.50632 , 186.48154 ,  95.426   , 224.66208 , 143.64041 ,\n",
       "       332.59692 ,  80.73082 , 227.8951  , 248.49567 ,  60.715126,\n",
       "       101.90525 , 213.87029 , 290.9517  ,  90.678696, 127.320366,\n",
       "       292.6236  , 143.44925 , 142.985   ,  24.63697 , 174.84714 ,\n",
       "       154.93318 , 265.9502  , 383.0049  , 237.12733 , 242.7477  ,\n",
       "       195.99959 ,  99.466385, 191.7526  , 207.61232 , 244.82773 ,\n",
       "       135.08246 , 139.2994  , 316.17105 , 133.88344 ,  86.484886,\n",
       "       280.5803  , 213.57915 , 226.80736 , 207.57018 , 208.27716 ,\n",
       "        43.500416, 196.26704 , 367.94745 , 126.26086 ,  12.095521,\n",
       "       285.14584 , 102.63821 , 316.3713  , 325.63885 ,  15.359129,\n",
       "       243.88461 , 271.18744 , 180.01408 , 250.63356 , 214.83092 ,\n",
       "        65.89104 ,  75.54554 , 213.31656 , 211.80426 ], dtype=float32)"
      ]
     },
     "execution_count": 27,
     "metadata": {},
     "output_type": "execute_result"
    }
   ],
   "source": []
  },
  {
   "cell_type": "code",
   "execution_count": 113,
   "metadata": {},
   "outputs": [
    {
     "data": {
      "text/plain": [
       "array([ True, False, False,  True])"
      ]
     },
     "execution_count": 113,
     "metadata": {},
     "output_type": "execute_result"
    }
   ],
   "source": [
    "a = np.array([1, 0, 0 , 1])\n",
    "b = np.array([0, 1, 0 , 0])\n",
    "np.array(a == 1) & np.array(b == 0)"
   ]
  },
  {
   "cell_type": "code",
   "execution_count": 103,
   "metadata": {},
   "outputs": [],
   "source": [
    "k = a == 1"
   ]
  },
  {
   "cell_type": "code",
   "execution_count": 93,
   "metadata": {},
   "outputs": [],
   "source": [
    "l = b == 0"
   ]
  },
  {
   "cell_type": "code",
   "execution_count": 94,
   "metadata": {},
   "outputs": [
    {
     "data": {
      "text/plain": [
       "array([ True, False, False,  True])"
      ]
     },
     "execution_count": 94,
     "metadata": {},
     "output_type": "execute_result"
    }
   ],
   "source": [
    "k"
   ]
  },
  {
   "cell_type": "code",
   "execution_count": 95,
   "metadata": {},
   "outputs": [
    {
     "data": {
      "text/plain": [
       "array([ True, False,  True,  True])"
      ]
     },
     "execution_count": 95,
     "metadata": {},
     "output_type": "execute_result"
    }
   ],
   "source": [
    "l"
   ]
  },
  {
   "cell_type": "code",
   "execution_count": 105,
   "metadata": {},
   "outputs": [
    {
     "data": {
      "text/plain": [
       "array([ True, False, False,  True])"
      ]
     },
     "execution_count": 105,
     "metadata": {},
     "output_type": "execute_result"
    }
   ],
   "source": [
    "k & l"
   ]
  },
  {
   "cell_type": "code",
   "execution_count": null,
   "metadata": {},
   "outputs": [],
   "source": []
  }
 ],
 "metadata": {
  "kernelspec": {
   "display_name": "Python 3",
   "language": "python",
   "name": "python3"
  },
  "language_info": {
   "codemirror_mode": {
    "name": "ipython",
    "version": 3
   },
   "file_extension": ".py",
   "mimetype": "text/x-python",
   "name": "python",
   "nbconvert_exporter": "python",
   "pygments_lexer": "ipython3",
   "version": "3.5.2"
  }
 },
 "nbformat": 4,
 "nbformat_minor": 2
}
