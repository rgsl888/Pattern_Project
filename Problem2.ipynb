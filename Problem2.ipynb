{
 "cells": [
  {
   "cell_type": "code",
   "execution_count": 43,
   "metadata": {},
   "outputs": [],
   "source": [
    "import keras as k\n",
    "from keras.applications.vgg16 import VGG16\n",
    "import pandas as pd\n",
    "from keras.models import Model\n",
    "from keras.preprocessing import image\n",
    "from keras.applications.vgg16 import preprocess_input\n",
    "import numpy as np\n",
    "from sklearn.model_selection import cross_validate\n",
    "from sklearn import svm\n",
    "from scipy.stats import mode\n",
    "from sklearn.multiclass import OneVsOneClassifier"
   ]
  },
  {
   "cell_type": "code",
   "execution_count": 44,
   "metadata": {},
   "outputs": [],
   "source": [
    "# Extract and create the data set\n",
    "data = pd.read_csv(\"data/micrograph.csv\")"
   ]
  },
  {
   "cell_type": "code",
   "execution_count": 45,
   "metadata": {},
   "outputs": [],
   "source": [
    "data_spheroidite = data.loc[data['primary_microconstituent'] == 'spheroidite'].copy()\n",
    "data_network = data.loc[data['primary_microconstituent'] == 'network'].copy()\n",
    "data_pearlite = data.loc[data['primary_microconstituent'] == 'pearlite'].copy()\n",
    "\n",
    "\n",
    "img = image.img_to_array(image.load_img(\"data/micrograph/\"+data_spheroidite['path'].iloc[0]))\n",
    "img = img[0:484,:,:]\n",
    "img = np.expand_dims(img, axis=0)\n",
    "img = preprocess_input(img)"
   ]
  },
  {
   "cell_type": "code",
   "execution_count": 46,
   "metadata": {},
   "outputs": [],
   "source": [
    "model = VGG16(weights = 'imagenet', include_top=False)"
   ]
  },
  {
   "cell_type": "code",
   "execution_count": 47,
   "metadata": {},
   "outputs": [],
   "source": [
    "layer_name = 'my_layer'\n",
    "intermediate_layer_model = Model(inputs=model.input,\n",
    "                                 outputs=[model.get_layer(index=3).output, \n",
    "                                          model.get_layer(index=6).output,\n",
    "                                          model.get_layer(index=10).output,\n",
    "                                          model.get_layer(index=14).output,\n",
    "                                          model.get_layer(index=18).output])\n",
    "\n"
   ]
  },
  {
   "cell_type": "code",
   "execution_count": 6,
   "metadata": {},
   "outputs": [],
   "source": [
    "def extract_features (data):\n",
    "    data['c12'] = [np.empty(1) for i in range(data.shape[0])]\n",
    "    data['c22'] = [np.empty(1) for i in range(data.shape[0])]\n",
    "    data['c33'] = [np.empty(1) for i in range(data.shape[0])]\n",
    "    data['c43'] = [np.empty(1) for i in range(data.shape[0])]\n",
    "    data['c53'] = [np.empty(1) for i in range(data.shape[0])]\n",
    "    \n",
    "    for index, row in data.iterrows():\n",
    "        img = image.img_to_array(image.load_img(\"data/micrograph/\"+row['path']))\n",
    "        img = img[0:484,:,:]\n",
    "        img = np.expand_dims(img, axis=0)\n",
    "        img = preprocess_input(img)\n",
    "        c12, c22, c33, c43, c53 = intermediate_layer_model.predict(img)\n",
    "        data.at[index,'c12'] = c12.mean(axis=(0,1,2,))\n",
    "        data.at[index,'c22'] = c22.mean(axis=(0,1,2,))\n",
    "        data.at[index,'c33'] = c33.mean(axis=(0,1,2,))\n",
    "        data.at[index,'c43'] = c43.mean(axis=(0,1,2,))\n",
    "        data.at[index,'c53'] = c53.mean(axis=(0,1,2,))"
   ]
  },
  {
   "cell_type": "code",
   "execution_count": 7,
   "metadata": {},
   "outputs": [],
   "source": [
    "%timeit\n",
    "extract_features (data_spheroidite)\n",
    "%timeit\n",
    "extract_features (data_network)\n",
    "%timeit\n",
    "extract_features (data_pearlite)"
   ]
  },
  {
   "cell_type": "code",
   "execution_count": 8,
   "metadata": {},
   "outputs": [],
   "source": [
    "#train data\n",
    "\n",
    "train_data_spher_netwk = pd.DataFrame ({'c12': np.append(data_spheroidite[0:100]['c12'].values, data_network[0:100]['c12'].values),\n",
    "                                   'c22': np.append(data_spheroidite[0:100]['c22'].values, data_network[0:100]['c22'].values),\n",
    "                                   'c33': np.append(data_spheroidite[0:100]['c33'].values, data_network[0:100]['c33'].values),\n",
    "                                   'c43': np.append(data_spheroidite[0:100]['c43'].values, data_network[0:100]['c43'].values),\n",
    "                                   'c53': np.append(data_spheroidite[0:100]['c53'].values, data_network[0:100]['c53'].values),\n",
    "                                   'type': np.append(np.ones(100), 2*np.ones(100))}).sample(frac=1, random_state=0)\n",
    "\n",
    "train_data_netwk_pearl = pd.DataFrame ({'c12': np.append(data_network[0:100]['c12'].values, data_pearlite[0:100]['c12'].values),\n",
    "                                   'c22': np.append(data_network[0:100]['c22'].values, data_pearlite[0:100]['c22'].values),\n",
    "                                   'c33': np.append(data_network[0:100]['c33'].values, data_pearlite[0:100]['c33'].values),\n",
    "                                   'c43': np.append(data_network[0:100]['c43'].values, data_pearlite[0:100]['c43'].values),\n",
    "                                   'c53': np.append(data_network[0:100]['c53'].values, data_pearlite[0:100]['c53'].values),\n",
    "                                   'type': np.append(2*np.ones(100), 3*np.ones(100))}).sample(frac=1, random_state=0)\n",
    "\n",
    "train_data_pearl_spher = pd.DataFrame ({'c12': np.append(data_pearlite[0:100]['c12'].values, data_spheroidite[0:100]['c12'].values),\n",
    "                                   'c22': np.append(data_pearlite[0:100]['c22'].values, data_spheroidite[0:100]['c22'].values),\n",
    "                                   'c33': np.append(data_pearlite[0:100]['c33'].values, data_spheroidite[0:100]['c33'].values),\n",
    "                                   'c43': np.append(data_pearlite[0:100]['c43'].values, data_spheroidite[0:100]['c43'].values),\n",
    "                                   'c53': np.append(data_pearlite[0:100]['c53'].values, data_spheroidite[0:100]['c53'].values),\n",
    "                                   'type' : np.append(3*np.ones(100), np.ones(100))}).sample(frac=1, random_state=0)\n"
   ]
  },
  {
   "cell_type": "code",
   "execution_count": 9,
   "metadata": {},
   "outputs": [],
   "source": [
    "# test_data\n",
    "\n",
    "test_data_spher_netwk = pd.DataFrame ({'c12': np.append(data_spheroidite[100:]['c12'].values, data_network[100:]['c12'].values),\n",
    "                                   'c22': np.append(data_spheroidite[100:]['c22'].values, data_network[100:]['c22'].values),\n",
    "                                   'c33': np.append(data_spheroidite[100:]['c33'].values, data_network[100:]['c33'].values),\n",
    "                                   'c43': np.append(data_spheroidite[100:]['c43'].values, data_network[100:]['c43'].values),\n",
    "                                   'c53': np.append(data_spheroidite[100:]['c53'].values, data_network[100:]['c53'].values),\n",
    "                                   'type' : np.append(np.ones(data_spheroidite[100:].shape[0]), 2*np.ones(data_network[100:].shape[0]))})\n",
    "\n",
    "test_data_netwk_pearl = pd.DataFrame ({'c12': np.append(data_network[100:]['c12'].values, data_pearlite[100:]['c12'].values),\n",
    "                                   'c22': np.append(data_network[100:]['c22'].values, data_pearlite[100:]['c22'].values),\n",
    "                                   'c33': np.append(data_network[100:]['c33'].values, data_pearlite[100:]['c33'].values),\n",
    "                                   'c43': np.append(data_network[100:]['c43'].values, data_pearlite[100:]['c43'].values),\n",
    "                                   'c53': np.append(data_network[100:]['c53'].values, data_pearlite[100:]['c53'].values),\n",
    "                                   'type' : np.append(2*np.ones(data_network[100:].shape[0]), 3*np.ones(data_pearlite[100:].shape[0]))})\n",
    "\n",
    "test_data_pearl_spher = pd.DataFrame ({'c12': np.append(data_pearlite[100:]['c12'].values, data_spheroidite[100:]['c12'].values),\n",
    "                                   'c22': np.append(data_pearlite[100:]['c22'].values, data_spheroidite[100:]['c22'].values),\n",
    "                                   'c33': np.append(data_pearlite[100:]['c33'].values, data_spheroidite[100:]['c33'].values),\n",
    "                                   'c43': np.append(data_pearlite[100:]['c43'].values, data_spheroidite[100:]['c43'].values),\n",
    "                                   'c53': np.append(data_pearlite[100:]['c53'].values, data_spheroidite[100:]['c53'].values),\n",
    "                                   'type' : np.append(3*np.ones(data_pearlite[100:].shape[0]), np.ones(data_spheroidite[100:].shape[0]))})\n"
   ]
  },
  {
   "cell_type": "code",
   "execution_count": 11,
   "metadata": {},
   "outputs": [
    {
     "name": "stdout",
     "output_type": "stream",
     "text": [
      "Cross validation error for spheroidite and network classifier: \n",
      "\n",
      "c12 error :  0.5\n",
      "c22 error :  0.5\n",
      "c33 error :  0.495\n",
      "c43 error :  0.49\n",
      "c53 error :  0.04000000000000026\n"
     ]
    }
   ],
   "source": [
    "#spheroidite and network\n",
    "\n",
    "print (\"Cross validation error for spheroidite and network classifier: \\n\")\n",
    "\n",
    "# c12\n",
    "sp_nt_clf12 = svm.SVC(kernel='rbf', gamma='auto', random_state=0)\n",
    "scores = cross_validate(sp_nt_clf12, list(train_data_spher_netwk['c12'].values), list(train_data_spher_netwk['type'].values), cv=10)\n",
    "#scores['test_recall_macro']\n",
    "print (\"c12 error : \", 1.0 - scores['test_score'].mean())\n",
    "\n",
    "# c22\n",
    "sp_nt_clf22 = svm.SVC(kernel='rbf', gamma='auto', random_state=0)\n",
    "scores = cross_validate(sp_nt_clf22, list(train_data_spher_netwk['c22'].values), list(train_data_spher_netwk['type'].values), cv=10)\n",
    "#scores['test_recall_macro']\n",
    "print (\"c22 error : \", 1.0 - scores['test_score'].mean())\n",
    "\n",
    "# c33\n",
    "sp_nt_clf33 = svm.SVC(kernel='rbf', gamma='auto', random_state=0)\n",
    "scores = cross_validate(sp_nt_clf33, list(train_data_spher_netwk['c33'].values), list(train_data_spher_netwk['type'].values), cv=10)\n",
    "#scores['test_recall_macro']\n",
    "print (\"c33 error : \", 1.0 - scores['test_score'].mean())\n",
    "\n",
    "# c43\n",
    "sp_nt_clf43 = svm.SVC(kernel='rbf', gamma='auto', random_state=0)\n",
    "scores = cross_validate(sp_nt_clf43, list(train_data_spher_netwk['c43'].values), list(train_data_spher_netwk['type'].values), cv=10)\n",
    "#scores['test_recall_macro']\n",
    "print (\"c43 error : \", 1.0 - scores['test_score'].mean())\n",
    "\n",
    "# c53\n",
    "sp_nt_clf53 = svm.SVC(kernel='rbf', gamma='auto', random_state=0)\n",
    "scores = cross_validate(sp_nt_clf53, list(train_data_spher_netwk['c53'].values), list(train_data_spher_netwk['type'].values), cv=10)\n",
    "#scores['test_recall_macro']\n",
    "print (\"c53 error : \", 1.0 - scores['test_score'].mean())"
   ]
  },
  {
   "cell_type": "code",
   "execution_count": 12,
   "metadata": {},
   "outputs": [],
   "source": [
    "# c12 error :  0.5\n",
    "# c22 error :  0.5\n",
    "# c33 error :  0.495\n",
    "# c43 error :  0.49\n",
    "# c53 error :  0.04000000000000026"
   ]
  },
  {
   "cell_type": "code",
   "execution_count": 13,
   "metadata": {},
   "outputs": [
    {
     "name": "stdout",
     "output_type": "stream",
     "text": [
      "Cross validation error for network and pearlite classifier: \n",
      "\n",
      "c12 error :  0.49\n",
      "c22 error :  0.48\n",
      "c33 error :  0.5\n",
      "c43 error :  0.495\n",
      "c53 error :  0.025000000000000133\n"
     ]
    }
   ],
   "source": [
    "#network and pearlite\n",
    "\n",
    "print (\"Cross validation error for network and pearlite classifier: \\n\")\n",
    "\n",
    "# c12\n",
    "nt_pl_clf12 = svm.SVC(kernel='rbf', gamma='auto', random_state=0)\n",
    "scores = cross_validate(nt_pl_clf12, list(train_data_netwk_pearl['c12'].values), list(train_data_netwk_pearl['type'].values), cv=10)\n",
    "#scores['test_recall_macro']\n",
    "print (\"c12 error : \", 1.0 - scores['test_score'].mean())\n",
    "\n",
    "# c22\n",
    "nt_pl_clf22 = svm.SVC(kernel='rbf', gamma='auto', random_state=0)\n",
    "scores = cross_validate(nt_pl_clf22, list(train_data_netwk_pearl['c22'].values), list(train_data_netwk_pearl['type'].values), cv=10)\n",
    "#scores['test_recall_macro']\n",
    "print (\"c22 error : \", 1.0 - scores['test_score'].mean())\n",
    "\n",
    "# c33\n",
    "nt_pl_clf33 = svm.SVC(kernel='rbf', gamma='auto', random_state=0)\n",
    "scores = cross_validate(nt_pl_clf33, list(train_data_netwk_pearl['c33'].values), list(train_data_netwk_pearl['type'].values), cv=10)\n",
    "#scores['test_recall_macro']\n",
    "print (\"c33 error : \", 1.0 - scores['test_score'].mean())\n",
    "\n",
    "# c43\n",
    "nt_pl_clf43 = svm.SVC(kernel='rbf', gamma='auto', random_state=0)\n",
    "scores = cross_validate(nt_pl_clf43, list(train_data_netwk_pearl['c43'].values), list(train_data_netwk_pearl['type'].values), cv=10)\n",
    "#scores['test_recall_macro']\n",
    "print (\"c43 error : \", 1.0 - scores['test_score'].mean())\n",
    "\n",
    "# c53\n",
    "nt_pl_clf53 = svm.SVC(kernel='rbf', gamma='auto', random_state=0)\n",
    "scores = cross_validate(nt_pl_clf53, list(train_data_netwk_pearl['c53'].values), list(train_data_netwk_pearl['type'].values), cv=10)\n",
    "#scores['test_recall_macro']\n",
    "print (\"c53 error : \", 1.0 - scores['test_score'].mean())"
   ]
  },
  {
   "cell_type": "code",
   "execution_count": 14,
   "metadata": {},
   "outputs": [],
   "source": [
    "# c12 error :  0.49\n",
    "# c22 error :  0.48\n",
    "# c33 error :  0.5\n",
    "# c43 error :  0.495\n",
    "# c53 error :  0.025000000000000133"
   ]
  },
  {
   "cell_type": "code",
   "execution_count": 15,
   "metadata": {},
   "outputs": [
    {
     "name": "stdout",
     "output_type": "stream",
     "text": [
      "Cross validation error for pearlite and spheroidite classifier: \n",
      "\n",
      "c12 error :  0.5\n",
      "c22 error :  0.4850000000000001\n",
      "c33 error :  0.4850000000000001\n",
      "c43 error :  0.495\n",
      "c53 error :  0.050000000000000044\n"
     ]
    }
   ],
   "source": [
    "#pearlite and spheroidite\n",
    "\n",
    "print (\"Cross validation error for pearlite and spheroidite classifier: \\n\")\n",
    "\n",
    "\n",
    "# c12\n",
    "pl_sp_clf12 = svm.SVC(kernel='rbf', gamma='auto', random_state=0)\n",
    "scores = cross_validate(pl_sp_clf12, list(train_data_pearl_spher['c12'].values), list(train_data_pearl_spher['type'].values), cv=10)\n",
    "#scores['test_recall_macro']\n",
    "print (\"c12 error : \", 1.0 - scores['test_score'].mean())\n",
    "\n",
    "# c22\n",
    "pl_sp_clf22 = svm.SVC(kernel='rbf', gamma='auto', random_state=0)\n",
    "scores = cross_validate(pl_sp_clf22, list(train_data_pearl_spher['c22'].values), list(train_data_pearl_spher['type'].values), cv=10)\n",
    "#scores['test_recall_macro']\n",
    "print (\"c22 error : \", 1.0 - scores['test_score'].mean())\n",
    "\n",
    "# c33\n",
    "pl_sp_clf33 = svm.SVC(kernel='rbf', gamma='auto', random_state=0)\n",
    "scores = cross_validate(pl_sp_clf33, list(train_data_pearl_spher['c33'].values), list(train_data_pearl_spher['type'].values), cv=10)\n",
    "#scores['test_recall_macro']\n",
    "print (\"c33 error : \", 1.0 - scores['test_score'].mean())\n",
    "\n",
    "# c43\n",
    "pl_sp_clf43 = svm.SVC(kernel='rbf', gamma='auto', random_state=0)\n",
    "scores = cross_validate(pl_sp_clf43, list(train_data_pearl_spher['c43'].values), list(train_data_pearl_spher['type'].values), cv=10)\n",
    "#scores['test_recall_macro']\n",
    "print (\"c43 error : \", 1.0 - scores['test_score'].mean())\n",
    "\n",
    "# c53\n",
    "pl_sp_clf53 = svm.SVC(kernel='rbf', gamma='auto', random_state=0)\n",
    "scores = cross_validate(pl_sp_clf53, list(train_data_pearl_spher['c53'].values), list(train_data_pearl_spher['type'].values), cv=10)\n",
    "#scores['test_recall_macro']\n",
    "print (\"c53 error : \", 1.0 - scores['test_score'].mean())"
   ]
  },
  {
   "cell_type": "code",
   "execution_count": 16,
   "metadata": {},
   "outputs": [],
   "source": [
    "# c12 error :  0.5\n",
    "# c22 error :  0.4850000000000001\n",
    "# c33 error :  0.4850000000000001\n",
    "# c43 error :  0.495\n",
    "# c53 error :  0.050000000000000044"
   ]
  },
  {
   "cell_type": "code",
   "execution_count": 17,
   "metadata": {},
   "outputs": [
    {
     "name": "stdout",
     "output_type": "stream",
     "text": [
      "SP_NT classifier test error :  0.033678756476683946\n"
     ]
    }
   ],
   "source": [
    "sp_nt_clf53 = svm.SVC(kernel='rbf', gamma='auto', random_state=0)\n",
    "sp_nt_clf53.fit(list(train_data_spher_netwk['c53'].values), list(train_data_spher_netwk['type'].values))\n",
    "print(\"SP_NT classifier test error : \", 1.0 - sp_nt_clf53.score(list(test_data_spher_netwk['c53'].values), list(test_data_spher_netwk['type'].values)))"
   ]
  },
  {
   "cell_type": "code",
   "execution_count": 18,
   "metadata": {},
   "outputs": [],
   "source": [
    "# SP_NT classifier test error :  0.033678756476683946"
   ]
  },
  {
   "cell_type": "code",
   "execution_count": 19,
   "metadata": {},
   "outputs": [
    {
     "name": "stdout",
     "output_type": "stream",
     "text": [
      "NT_PL classifier test error :  0.07352941176470584\n"
     ]
    }
   ],
   "source": [
    "nt_pl_clf53 = svm.SVC(kernel='rbf', gamma='auto', random_state=0)\n",
    "nt_pl_clf53.fit(list(train_data_netwk_pearl['c53'].values), list(train_data_netwk_pearl['type'].values))\n",
    "print(\"NT_PL classifier test error : \", 1.0 - nt_pl_clf53.score(list(test_data_netwk_pearl['c53'].values), list(test_data_netwk_pearl['type'].values)))"
   ]
  },
  {
   "cell_type": "code",
   "execution_count": 20,
   "metadata": {},
   "outputs": [],
   "source": [
    "# NT_PL classifier test error :  0.07352941176470584"
   ]
  },
  {
   "cell_type": "code",
   "execution_count": 21,
   "metadata": {},
   "outputs": [
    {
     "name": "stdout",
     "output_type": "stream",
     "text": [
      "PL_SP classifier test error  :  0.0\n"
     ]
    }
   ],
   "source": [
    "pl_sp_clf53 = svm.SVC(kernel='rbf', gamma='auto', random_state=0)\n",
    "pl_sp_clf53.fit(list(train_data_pearl_spher['c53'].values), list(train_data_pearl_spher['type'].values))\n",
    "print(\"PL_SP classifier test error  : \", 1.0 - pl_sp_clf53.score(list(test_data_pearl_spher['c53'].values), list(test_data_pearl_spher['type'].values)))"
   ]
  },
  {
   "cell_type": "code",
   "execution_count": 22,
   "metadata": {},
   "outputs": [],
   "source": [
    "# PL_SP classifier test error  :  0.0"
   ]
  },
  {
   "cell_type": "code",
   "execution_count": 23,
   "metadata": {},
   "outputs": [],
   "source": [
    "train_data = pd.DataFrame ({'c12': np.append(np.append(data_spheroidite[0:100]['c12'].values, data_network[0:100]['c12'].values), data_pearlite[0:100]['c12'].values),\n",
    "                                   'c22': np.append(np.append(data_spheroidite[0:100]['c22'].values, data_network[0:100]['c22'].values), data_pearlite[0:100]['c22'].values),\n",
    "                                   'c33': np.append(np.append(data_spheroidite[0:100]['c33'].values, data_network[0:100]['c33'].values), data_pearlite[0:100]['c33'].values),\n",
    "                                   'c43': np.append(np.append(data_spheroidite[0:100]['c43'].values, data_network[0:100]['c43'].values), data_pearlite[0:100]['c43'].values),\n",
    "                                   'c53': np.append(np.append(data_spheroidite[0:100]['c53'].values, data_network[0:100]['c53'].values), data_pearlite[0:100]['c53'].values),\n",
    "                                   'type': np.append(np.append(np.ones(100), 2*np.ones(100)), 3*np.ones(100))}).sample(frac=1, random_state=0)\n",
    "\n",
    "\n",
    "\n",
    "test_data = pd.DataFrame ({'c12': np.append(np.append(data_spheroidite[100:]['c12'].values, data_network[100:]['c12'].values), data_pearlite[100:]['c12'].values),\n",
    "                                   'c22': np.append(np.append(data_spheroidite[100:]['c22'].values, data_network[100:]['c22'].values), data_pearlite[100:]['c22'].values),\n",
    "                                   'c33': np.append(np.append(data_spheroidite[100:]['c33'].values, data_network[100:]['c33'].values), data_pearlite[100:]['c33'].values),\n",
    "                                   'c43': np.append(np.append(data_spheroidite[100:]['c43'].values, data_network[100:]['c43'].values), data_pearlite[100:]['c43'].values),\n",
    "                                   'c53': np.append(np.append(data_spheroidite[100:]['c53'].values, data_network[100:]['c53'].values), data_pearlite[100:]['c53'].values),\n",
    "                                   'type': np.append(np.append(np.ones(data_spheroidite[100:].shape[0]), 2*np.ones(data_network[100:].shape[0])), 3*np.ones(data_pearlite[100:].shape[0]))})\n"
   ]
  },
  {
   "cell_type": "code",
   "execution_count": 24,
   "metadata": {},
   "outputs": [
    {
     "name": "stdout",
     "output_type": "stream",
     "text": [
      "Multi classifier CV error for Layer-1 : 0.6633333333333333\n",
      "Multi classifier CV error for Layer-2 : 0.6466666666666667\n",
      "Multi classifier CV error for Layer-3 : 0.64\n",
      "Multi classifier CV error for Layer-4 : 0.6499999999999999\n",
      "Multi classifier CV error for Layer-5 : 0.050000000000000044\n"
     ]
    }
   ],
   "source": [
    "svm_1 = svm.SVC(kernel='rbf', gamma='auto', random_state=0)\n",
    "ovo_1 = OneVsOneClassifier (svm_1, n_jobs=None)\n",
    "score  = cross_validate (ovo_1, list(train_data['c12'].values), list(train_data['type'].values), cv=10)\n",
    "print (\"Multi classifier CV error for Layer-1 :\", 1.0 - score['test_score'].mean())\n",
    "\n",
    "svm_2 = svm.SVC(kernel='rbf', gamma='auto', random_state=0)\n",
    "ovo_2 = OneVsOneClassifier (svm_2, n_jobs=None)\n",
    "score  = cross_validate (ovo_2, list(train_data['c22'].values), list(train_data['type'].values), cv=10)\n",
    "print (\"Multi classifier CV error for Layer-2 :\", 1.0 - score['test_score'].mean())\n",
    "\n",
    "svm_3 = svm.SVC(kernel='rbf', gamma='auto', random_state=0)\n",
    "ovo_3 = OneVsOneClassifier (svm_3, n_jobs=None)\n",
    "score  = cross_validate (ovo_3, list(train_data['c33'].values), list(train_data['type'].values), cv=10)\n",
    "print (\"Multi classifier CV error for Layer-3 :\", 1.0 - score['test_score'].mean())\n",
    "\n",
    "svm_4 = svm.SVC(kernel='rbf', gamma='auto', random_state=0)\n",
    "ovo_4 = OneVsOneClassifier (svm_4, n_jobs=None)\n",
    "score  = cross_validate (ovo_4, list(train_data['c43'].values), list(train_data['type'].values), cv=10)\n",
    "print (\"Multi classifier CV error for Layer-4 :\", 1.0 - score['test_score'].mean())\n",
    "\n",
    "svm_5 = svm.SVC(kernel='rbf', gamma='auto', random_state=0)\n",
    "ovo_5 = OneVsOneClassifier (svm_5, n_jobs=None)\n",
    "score  = cross_validate (ovo_5, list(train_data['c53'].values), list(train_data['type'].values), cv=10)\n",
    "print (\"Multi classifier CV error for Layer-5 :\", 1.0 - score['test_score'].mean())"
   ]
  },
  {
   "cell_type": "code",
   "execution_count": null,
   "metadata": {},
   "outputs": [],
   "source": [
    "# Multi classifier CV error for Layer-1 : 0.6633333333333333\n",
    "# Multi classifier CV error for Layer-2 : 0.6466666666666667\n",
    "# Multi classifier CV error for Layer-3 : 0.64\n",
    "# Multi classifier CV error for Layer-4 : 0.6499999999999999\n",
    "# Multi classifier CV error for Layer-5 : 0.050000000000000044"
   ]
  },
  {
   "cell_type": "code",
   "execution_count": 25,
   "metadata": {},
   "outputs": [
    {
     "name": "stdout",
     "output_type": "stream",
     "text": [
      "Multi classifier test error for Layer-5 : 0.03170731707317076\n"
     ]
    }
   ],
   "source": [
    "svm_ = svm.SVC(kernel='rbf', gamma='auto', random_state=0)\n",
    "ovo = OneVsOneClassifier (svm_, n_jobs=None)\n",
    "ovo.fit(list(train_data['c53'].values), list(train_data['type'].values))\n",
    "score = ovo.score(list(test_data['c53']), list(test_data['type']))\n",
    "print (\"Multi classifier test error for Layer-5 :\", 1.0 - score)"
   ]
  },
  {
   "cell_type": "code",
   "execution_count": null,
   "metadata": {},
   "outputs": [],
   "source": [
    "# Multi classifier test error for Layer-5 : 0.03170731707317076"
   ]
  },
  {
   "cell_type": "code",
   "execution_count": null,
   "metadata": {},
   "outputs": [],
   "source": []
  },
  {
   "cell_type": "code",
   "execution_count": 26,
   "metadata": {},
   "outputs": [],
   "source": [
    "test_data = pd.DataFrame ({'c53': np.append(np.append(data_spheroidite[100:]['c53'].values, \n",
    "                            data_network[100:]['c53'].values),data_pearlite[100:]['c53']),\n",
    "                           'type': np.append(np.append(np.ones(data_spheroidite[100:].shape[0]), \n",
    "                            2*np.ones(data_network[100:].shape[0])), 3*np.ones(data_pearlite[100:].shape[0]))})\n"
   ]
  },
  {
   "cell_type": "code",
   "execution_count": 27,
   "metadata": {},
   "outputs": [
    {
     "name": "stdout",
     "output_type": "stream",
     "text": [
      "Total test error in 1 vs 1 :  0.03170731707317076\n"
     ]
    }
   ],
   "source": [
    "pred_1 = sp_nt_clf53.predict(list(test_data['c53'].values))\n",
    "pred_2 = nt_pl_clf53.predict(list(test_data['c53'].values))\n",
    "pred_3 = pl_sp_clf53.predict(list(test_data['c53'].values))\n",
    "pred = mode(np.concatenate((pred_1.reshape((pred_1.shape[0], 1)), pred_2.reshape((pred_2.shape[0], 1)),\n",
    "                pred_3.reshape((pred_3.shape[0], 1)), np.zeros((pred_3.shape[0],1))), axis = 1), axis=1)[0]\n",
    "truth_val = test_data['type'].values\n",
    "truth_val = truth_val.reshape((truth_val.shape[0], 1))\n",
    "print (\"Total test error in 1 vs 1 : \", 1.0 - (truth_val[truth_val == pred].shape[0]/truth_val.shape[0]))"
   ]
  },
  {
   "cell_type": "code",
   "execution_count": 28,
   "metadata": {},
   "outputs": [],
   "source": [
    "# Total test error in 1 vs 1 :  0.03170731707317076"
   ]
  },
  {
   "cell_type": "code",
   "execution_count": 29,
   "metadata": {},
   "outputs": [],
   "source": [
    "# For spherodite\n",
    "pred_1 = sp_nt_clf53.predict(list(data_spheroidite[100:]['c53'].values))\n",
    "pred_2 = pl_sp_clf53.predict(list(data_spheroidite[100:]['c53'].values))\n",
    "correct_pred_sph = np.array(pred_1 == 1.0) & np.array(pred_2 == 1.0)\n",
    "\n",
    "# For network\n",
    "pred_1 = nt_pl_clf53.predict(list(data_network[100:]['c53'].values))\n",
    "pred_2 = sp_nt_clf53.predict(list(data_network[100:]['c53'].values))\n",
    "correct_pred_ntwk = np.array(pred_1 == 2.0) & np.array(pred_2 == 2.0)\n",
    "\n",
    "# For pearlite\n",
    "pred_1 = pl_sp_clf53.predict(list(data_pearlite[100:]['c53'].values))\n",
    "pred_2 = nt_pl_clf53.predict(list(data_pearlite[100:]['c53'].values))\n",
    "correct_pred_pl = np.array(pred_1 == 3.0) & np.array(pred_2 == 3.0)"
   ]
  },
  {
   "cell_type": "code",
   "execution_count": 30,
   "metadata": {},
   "outputs": [
    {
     "name": "stdout",
     "output_type": "stream",
     "text": [
      "Total error :  0.03170731707317076\n"
     ]
    }
   ],
   "source": [
    "prediction = np.append(np.append(correct_pred_sph, correct_pred_ntwk), correct_pred_pl)\n",
    "\n",
    "total_performance = prediction[prediction == True].shape[0]/prediction.shape[0]\n",
    "print (\"Total error : \", 1.0 - total_performance)"
   ]
  },
  {
   "cell_type": "code",
   "execution_count": 31,
   "metadata": {},
   "outputs": [],
   "source": [
    "# Total test error :  0.03170731707317076"
   ]
  },
  {
   "cell_type": "code",
   "execution_count": 32,
   "metadata": {},
   "outputs": [],
   "source": [
    "data_spheroidite.to_csv('data/sperodite.csv', sep=',')\n",
    "data_network.to_csv('data/network.csv', sep=',')\n",
    "data_pearlite.to_csv('data/pearlite.csv', sep=',')"
   ]
  },
  {
   "cell_type": "code",
   "execution_count": 33,
   "metadata": {},
   "outputs": [],
   "source": [
    "data_spheroidite.to_csv('data/sperodite_t.csv', sep='\\t')\n",
    "data_network.to_csv('data/network_t.csv', sep='\\t')\n",
    "data_pearlite.to_csv('data/pearlite_t.csv', sep='\\t')"
   ]
  },
  {
   "cell_type": "code",
   "execution_count": 48,
   "metadata": {},
   "outputs": [],
   "source": [
    "img = image.img_to_array(image.load_img('data/micrograph/micrograph1.tif'))\n",
    "img = img[0:484,:,:]\n",
    "img = np.expand_dims(img, axis=0)\n",
    "img = preprocess_input(img)\n",
    "c12, c22, c33, c43, c53 = intermediate_layer_model.predict(img)"
   ]
  },
  {
   "cell_type": "code",
   "execution_count": 49,
   "metadata": {},
   "outputs": [
    {
     "data": {
      "text/plain": [
       "(1, 242, 322, 64)"
      ]
     },
     "execution_count": 49,
     "metadata": {},
     "output_type": "execute_result"
    }
   ],
   "source": [
    "c12.shape"
   ]
  },
  {
   "cell_type": "code",
   "execution_count": 50,
   "metadata": {},
   "outputs": [
    {
     "data": {
      "text/plain": [
       "(1, 121, 161, 128)"
      ]
     },
     "execution_count": 50,
     "metadata": {},
     "output_type": "execute_result"
    }
   ],
   "source": [
    "c22.shape"
   ]
  },
  {
   "cell_type": "code",
   "execution_count": 51,
   "metadata": {},
   "outputs": [
    {
     "data": {
      "text/plain": [
       "(1, 60, 80, 256)"
      ]
     },
     "execution_count": 51,
     "metadata": {},
     "output_type": "execute_result"
    }
   ],
   "source": [
    "c33.shape"
   ]
  },
  {
   "cell_type": "code",
   "execution_count": 53,
   "metadata": {},
   "outputs": [
    {
     "data": {
      "text/plain": [
       "(1, 30, 40, 512)"
      ]
     },
     "execution_count": 53,
     "metadata": {},
     "output_type": "execute_result"
    }
   ],
   "source": [
    "c43.shape"
   ]
  },
  {
   "cell_type": "code",
   "execution_count": 54,
   "metadata": {},
   "outputs": [
    {
     "data": {
      "text/plain": [
       "(1, 15, 20, 512)"
      ]
     },
     "execution_count": 54,
     "metadata": {},
     "output_type": "execute_result"
    }
   ],
   "source": [
    "c53.shape"
   ]
  },
  {
   "cell_type": "code",
   "execution_count": 58,
   "metadata": {},
   "outputs": [
    {
     "name": "stdout",
     "output_type": "stream",
     "text": [
      "<keras.layers.pooling.MaxPooling2D object at 0x7fa7ebc0dc50>\n",
      "<keras.layers.pooling.MaxPooling2D object at 0x7fa7ebbd1908>\n",
      "<keras.layers.pooling.MaxPooling2D object at 0x7fa7ebb86a58>\n",
      "<keras.layers.pooling.MaxPooling2D object at 0x7fa7d77a4860>\n",
      "<keras.layers.pooling.MaxPooling2D object at 0x7fa7d7708d30>\n"
     ]
    }
   ],
   "source": [
    "print (model.get_layer(index=3) )\n",
    "print (model.get_layer(index=6))\n",
    "print (model.get_layer(index=10))\n",
    "print (model.get_layer(index=14))\n",
    "print (model.get_layer(index=18))"
   ]
  },
  {
   "cell_type": "code",
   "execution_count": 62,
   "metadata": {},
   "outputs": [
    {
     "data": {
      "text/plain": [
       "[<keras.engine.input_layer.InputLayer at 0x7fa7d7438d68>,\n",
       " <keras.layers.convolutional.Conv2D at 0x7fa7d740ceb8>,\n",
       " <keras.layers.convolutional.Conv2D at 0x7fa7d740c860>,\n",
       " <keras.layers.pooling.MaxPooling2D at 0x7fa7ebc0dc50>,\n",
       " <keras.layers.convolutional.Conv2D at 0x7fa7ebc6d710>,\n",
       " <keras.layers.convolutional.Conv2D at 0x7fa7d7405518>,\n",
       " <keras.layers.pooling.MaxPooling2D at 0x7fa7ebbd1908>,\n",
       " <keras.layers.convolutional.Conv2D at 0x7fa7d7444470>,\n",
       " <keras.layers.convolutional.Conv2D at 0x7fa7d74105f8>,\n",
       " <keras.layers.convolutional.Conv2D at 0x7fa7d73e58d0>,\n",
       " <keras.layers.pooling.MaxPooling2D at 0x7fa7ebb86a58>,\n",
       " <keras.layers.convolutional.Conv2D at 0x7fa7d77d37b8>,\n",
       " <keras.layers.convolutional.Conv2D at 0x7fa7d77eafd0>,\n",
       " <keras.layers.convolutional.Conv2D at 0x7fa7d778fa58>,\n",
       " <keras.layers.pooling.MaxPooling2D at 0x7fa7d77a4860>,\n",
       " <keras.layers.convolutional.Conv2D at 0x7fa7d77a48d0>,\n",
       " <keras.layers.convolutional.Conv2D at 0x7fa7d774b9e8>,\n",
       " <keras.layers.convolutional.Conv2D at 0x7fa7d76f1198>,\n",
       " <keras.layers.pooling.MaxPooling2D at 0x7fa7d7708d30>]"
      ]
     },
     "execution_count": 62,
     "metadata": {},
     "output_type": "execute_result"
    }
   ],
   "source": [
    "model.layers"
   ]
  },
  {
   "cell_type": "code",
   "execution_count": null,
   "metadata": {},
   "outputs": [],
   "source": []
  }
 ],
 "metadata": {
  "kernelspec": {
   "display_name": "Python 3",
   "language": "python",
   "name": "python3"
  },
  "language_info": {
   "codemirror_mode": {
    "name": "ipython",
    "version": 3
   },
   "file_extension": ".py",
   "mimetype": "text/x-python",
   "name": "python",
   "nbconvert_exporter": "python",
   "pygments_lexer": "ipython3",
   "version": "3.5.2"
  }
 },
 "nbformat": 4,
 "nbformat_minor": 2
}
